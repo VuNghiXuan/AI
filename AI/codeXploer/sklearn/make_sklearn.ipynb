{
 "cells": [
  {
   "cell_type": "code",
   "execution_count": 1,
   "source": [
    "import pandas as pd\r\n",
    "import matplotlib.pyplot as plt\r\n",
    "import numpy as np\r\n",
    "import seaborn as sns"
   ],
   "outputs": [],
   "metadata": {}
  },
  {
   "cell_type": "code",
   "execution_count": 2,
   "source": [
    "data_df = pd.read_csv(\"./data/data.csv\")\r\n",
    "data_df"
   ],
   "outputs": [
    {
     "output_type": "execute_result",
     "data": {
      "text/plain": [
       "   Country   Age   Salary Purchased\n",
       "0   France  44.0  72000.0        No\n",
       "1    Spain  27.0  48000.0       Yes\n",
       "2  Germany  30.0  54000.0        No\n",
       "3    Spain  38.0  61000.0        No\n",
       "4  Germany  40.0      NaN       Yes\n",
       "5   France  35.0  58000.0       Yes\n",
       "6    Spain   NaN  52000.0        No\n",
       "7   France  48.0  79000.0       Yes\n",
       "8  Germany  50.0  83000.0        No\n",
       "9   France  37.0  67000.0       Yes"
      ],
      "text/html": [
       "<div>\n",
       "<style scoped>\n",
       "    .dataframe tbody tr th:only-of-type {\n",
       "        vertical-align: middle;\n",
       "    }\n",
       "\n",
       "    .dataframe tbody tr th {\n",
       "        vertical-align: top;\n",
       "    }\n",
       "\n",
       "    .dataframe thead th {\n",
       "        text-align: right;\n",
       "    }\n",
       "</style>\n",
       "<table border=\"1\" class=\"dataframe\">\n",
       "  <thead>\n",
       "    <tr style=\"text-align: right;\">\n",
       "      <th></th>\n",
       "      <th>Country</th>\n",
       "      <th>Age</th>\n",
       "      <th>Salary</th>\n",
       "      <th>Purchased</th>\n",
       "    </tr>\n",
       "  </thead>\n",
       "  <tbody>\n",
       "    <tr>\n",
       "      <th>0</th>\n",
       "      <td>France</td>\n",
       "      <td>44.0</td>\n",
       "      <td>72000.0</td>\n",
       "      <td>No</td>\n",
       "    </tr>\n",
       "    <tr>\n",
       "      <th>1</th>\n",
       "      <td>Spain</td>\n",
       "      <td>27.0</td>\n",
       "      <td>48000.0</td>\n",
       "      <td>Yes</td>\n",
       "    </tr>\n",
       "    <tr>\n",
       "      <th>2</th>\n",
       "      <td>Germany</td>\n",
       "      <td>30.0</td>\n",
       "      <td>54000.0</td>\n",
       "      <td>No</td>\n",
       "    </tr>\n",
       "    <tr>\n",
       "      <th>3</th>\n",
       "      <td>Spain</td>\n",
       "      <td>38.0</td>\n",
       "      <td>61000.0</td>\n",
       "      <td>No</td>\n",
       "    </tr>\n",
       "    <tr>\n",
       "      <th>4</th>\n",
       "      <td>Germany</td>\n",
       "      <td>40.0</td>\n",
       "      <td>NaN</td>\n",
       "      <td>Yes</td>\n",
       "    </tr>\n",
       "    <tr>\n",
       "      <th>5</th>\n",
       "      <td>France</td>\n",
       "      <td>35.0</td>\n",
       "      <td>58000.0</td>\n",
       "      <td>Yes</td>\n",
       "    </tr>\n",
       "    <tr>\n",
       "      <th>6</th>\n",
       "      <td>Spain</td>\n",
       "      <td>NaN</td>\n",
       "      <td>52000.0</td>\n",
       "      <td>No</td>\n",
       "    </tr>\n",
       "    <tr>\n",
       "      <th>7</th>\n",
       "      <td>France</td>\n",
       "      <td>48.0</td>\n",
       "      <td>79000.0</td>\n",
       "      <td>Yes</td>\n",
       "    </tr>\n",
       "    <tr>\n",
       "      <th>8</th>\n",
       "      <td>Germany</td>\n",
       "      <td>50.0</td>\n",
       "      <td>83000.0</td>\n",
       "      <td>No</td>\n",
       "    </tr>\n",
       "    <tr>\n",
       "      <th>9</th>\n",
       "      <td>France</td>\n",
       "      <td>37.0</td>\n",
       "      <td>67000.0</td>\n",
       "      <td>Yes</td>\n",
       "    </tr>\n",
       "  </tbody>\n",
       "</table>\n",
       "</div>"
      ]
     },
     "metadata": {},
     "execution_count": 2
    }
   ],
   "metadata": {}
  },
  {
   "cell_type": "code",
   "execution_count": 3,
   "source": [
    "data_df.info()"
   ],
   "outputs": [
    {
     "output_type": "stream",
     "name": "stdout",
     "text": [
      "<class 'pandas.core.frame.DataFrame'>\n",
      "RangeIndex: 10 entries, 0 to 9\n",
      "Data columns (total 4 columns):\n",
      " #   Column     Non-Null Count  Dtype  \n",
      "---  ------     --------------  -----  \n",
      " 0   Country    10 non-null     object \n",
      " 1   Age        9 non-null      float64\n",
      " 2   Salary     9 non-null      float64\n",
      " 3   Purchased  10 non-null     object \n",
      "dtypes: float64(2), object(2)\n",
      "memory usage: 448.0+ bytes\n"
     ]
    }
   ],
   "metadata": {}
  },
  {
   "cell_type": "markdown",
   "source": [
    "Miss data"
   ],
   "metadata": {}
  },
  {
   "cell_type": "code",
   "execution_count": 4,
   "source": [
    "for col in data_df.columns:\r\n",
    "    miss_data= data_df[col].isna().sum()\r\n",
    "    percent_miss=(miss_data/len(data_df))*100\r\n",
    "    print(f'Columns {col}: Có {percent_miss}%')"
   ],
   "outputs": [
    {
     "output_type": "stream",
     "name": "stdout",
     "text": [
      "Columns Country: Có 0.0%\n",
      "Columns Age: Có 10.0%\n",
      "Columns Salary: Có 10.0%\n",
      "Columns Purchased: Có 0.0%\n"
     ]
    }
   ],
   "metadata": {}
  },
  {
   "cell_type": "code",
   "execution_count": 5,
   "source": [
    "# Vẽ biểu đồ \r\n",
    "fig, ax = plt.subplots(figsize=(8,5))\r\n",
    "sns.heatmap(data= data_df.isna(), cmap= 'Greens')"
   ],
   "outputs": [
    {
     "output_type": "execute_result",
     "data": {
      "text/plain": [
       "<AxesSubplot:>"
      ]
     },
     "metadata": {},
     "execution_count": 5
    },
    {
     "output_type": "display_data",
     "data": {
      "text/plain": [
       "<Figure size 576x360 with 2 Axes>"
      ],
      "image/svg+xml": "<?xml version=\"1.0\" encoding=\"utf-8\" standalone=\"no\"?>\r\n<!DOCTYPE svg PUBLIC \"-//W3C//DTD SVG 1.1//EN\"\r\n  \"http://www.w3.org/Graphics/SVG/1.1/DTD/svg11.dtd\">\r\n<svg height=\"306.677344pt\" version=\"1.1\" viewBox=\"0 0 447.01125 306.677344\" width=\"447.01125pt\" xmlns=\"http://www.w3.org/2000/svg\" xmlns:xlink=\"http://www.w3.org/1999/xlink\">\r\n <metadata>\r\n  <rdf:RDF xmlns:cc=\"http://creativecommons.org/ns#\" xmlns:dc=\"http://purl.org/dc/elements/1.1/\" xmlns:rdf=\"http://www.w3.org/1999/02/22-rdf-syntax-ns#\">\r\n   <cc:Work>\r\n    <dc:type rdf:resource=\"http://purl.org/dc/dcmitype/StillImage\"/>\r\n    <dc:date>2021-08-30T16:05:10.856860</dc:date>\r\n    <dc:format>image/svg+xml</dc:format>\r\n    <dc:creator>\r\n     <cc:Agent>\r\n      <dc:title>Matplotlib v3.4.2, https://matplotlib.org/</dc:title>\r\n     </cc:Agent>\r\n    </dc:creator>\r\n   </cc:Work>\r\n  </rdf:RDF>\r\n </metadata>\r\n <defs>\r\n  <style type=\"text/css\">*{stroke-linecap:butt;stroke-linejoin:round;}</style>\r\n </defs>\r\n <g id=\"figure_1\">\r\n  <g id=\"patch_1\">\r\n   <path d=\"M 0 306.677344 \r\nL 447.01125 306.677344 \r\nL 447.01125 0 \r\nL 0 0 \r\nz\r\n\" style=\"fill:none;\"/>\r\n  </g>\r\n  <g id=\"axes_1\">\r\n   <g id=\"patch_2\">\r\n    <path d=\"M 23.878125 282.799219 \r\nL 380.998125 282.799219 \r\nL 380.998125 10.999219 \r\nL 23.878125 10.999219 \r\nz\r\n\" style=\"fill:#ffffff;\"/>\r\n   </g>\r\n   <g id=\"QuadMesh_1\">\r\n    <path clip-path=\"url(#p1123ec8e06)\" d=\"M 23.878125 10.999219 \r\nL 113.158125 10.999219 \r\nL 113.158125 38.179219 \r\nL 23.878125 38.179219 \r\nL 23.878125 10.999219 \r\n\" style=\"fill:#f7fcf5;\"/>\r\n    <path clip-path=\"url(#p1123ec8e06)\" d=\"M 113.158125 10.999219 \r\nL 202.438125 10.999219 \r\nL 202.438125 38.179219 \r\nL 113.158125 38.179219 \r\nL 113.158125 10.999219 \r\n\" style=\"fill:#f7fcf5;\"/>\r\n    <path clip-path=\"url(#p1123ec8e06)\" d=\"M 202.438125 10.999219 \r\nL 291.718125 10.999219 \r\nL 291.718125 38.179219 \r\nL 202.438125 38.179219 \r\nL 202.438125 10.999219 \r\n\" style=\"fill:#f7fcf5;\"/>\r\n    <path clip-path=\"url(#p1123ec8e06)\" d=\"M 291.718125 10.999219 \r\nL 380.998125 10.999219 \r\nL 380.998125 38.179219 \r\nL 291.718125 38.179219 \r\nL 291.718125 10.999219 \r\n\" style=\"fill:#f7fcf5;\"/>\r\n    <path clip-path=\"url(#p1123ec8e06)\" d=\"M 23.878125 38.179219 \r\nL 113.158125 38.179219 \r\nL 113.158125 65.359219 \r\nL 23.878125 65.359219 \r\nL 23.878125 38.179219 \r\n\" style=\"fill:#f7fcf5;\"/>\r\n    <path clip-path=\"url(#p1123ec8e06)\" d=\"M 113.158125 38.179219 \r\nL 202.438125 38.179219 \r\nL 202.438125 65.359219 \r\nL 113.158125 65.359219 \r\nL 113.158125 38.179219 \r\n\" style=\"fill:#f7fcf5;\"/>\r\n    <path clip-path=\"url(#p1123ec8e06)\" d=\"M 202.438125 38.179219 \r\nL 291.718125 38.179219 \r\nL 291.718125 65.359219 \r\nL 202.438125 65.359219 \r\nL 202.438125 38.179219 \r\n\" style=\"fill:#f7fcf5;\"/>\r\n    <path clip-path=\"url(#p1123ec8e06)\" d=\"M 291.718125 38.179219 \r\nL 380.998125 38.179219 \r\nL 380.998125 65.359219 \r\nL 291.718125 65.359219 \r\nL 291.718125 38.179219 \r\n\" style=\"fill:#f7fcf5;\"/>\r\n    <path clip-path=\"url(#p1123ec8e06)\" d=\"M 23.878125 65.359219 \r\nL 113.158125 65.359219 \r\nL 113.158125 92.539219 \r\nL 23.878125 92.539219 \r\nL 23.878125 65.359219 \r\n\" style=\"fill:#f7fcf5;\"/>\r\n    <path clip-path=\"url(#p1123ec8e06)\" d=\"M 113.158125 65.359219 \r\nL 202.438125 65.359219 \r\nL 202.438125 92.539219 \r\nL 113.158125 92.539219 \r\nL 113.158125 65.359219 \r\n\" style=\"fill:#f7fcf5;\"/>\r\n    <path clip-path=\"url(#p1123ec8e06)\" d=\"M 202.438125 65.359219 \r\nL 291.718125 65.359219 \r\nL 291.718125 92.539219 \r\nL 202.438125 92.539219 \r\nL 202.438125 65.359219 \r\n\" style=\"fill:#f7fcf5;\"/>\r\n    <path clip-path=\"url(#p1123ec8e06)\" d=\"M 291.718125 65.359219 \r\nL 380.998125 65.359219 \r\nL 380.998125 92.539219 \r\nL 291.718125 92.539219 \r\nL 291.718125 65.359219 \r\n\" style=\"fill:#f7fcf5;\"/>\r\n    <path clip-path=\"url(#p1123ec8e06)\" d=\"M 23.878125 92.539219 \r\nL 113.158125 92.539219 \r\nL 113.158125 119.719219 \r\nL 23.878125 119.719219 \r\nL 23.878125 92.539219 \r\n\" style=\"fill:#f7fcf5;\"/>\r\n    <path clip-path=\"url(#p1123ec8e06)\" d=\"M 113.158125 92.539219 \r\nL 202.438125 92.539219 \r\nL 202.438125 119.719219 \r\nL 113.158125 119.719219 \r\nL 113.158125 92.539219 \r\n\" style=\"fill:#f7fcf5;\"/>\r\n    <path clip-path=\"url(#p1123ec8e06)\" d=\"M 202.438125 92.539219 \r\nL 291.718125 92.539219 \r\nL 291.718125 119.719219 \r\nL 202.438125 119.719219 \r\nL 202.438125 92.539219 \r\n\" style=\"fill:#f7fcf5;\"/>\r\n    <path clip-path=\"url(#p1123ec8e06)\" d=\"M 291.718125 92.539219 \r\nL 380.998125 92.539219 \r\nL 380.998125 119.719219 \r\nL 291.718125 119.719219 \r\nL 291.718125 92.539219 \r\n\" style=\"fill:#f7fcf5;\"/>\r\n    <path clip-path=\"url(#p1123ec8e06)\" d=\"M 23.878125 119.719219 \r\nL 113.158125 119.719219 \r\nL 113.158125 146.899219 \r\nL 23.878125 146.899219 \r\nL 23.878125 119.719219 \r\n\" style=\"fill:#f7fcf5;\"/>\r\n    <path clip-path=\"url(#p1123ec8e06)\" d=\"M 113.158125 119.719219 \r\nL 202.438125 119.719219 \r\nL 202.438125 146.899219 \r\nL 113.158125 146.899219 \r\nL 113.158125 119.719219 \r\n\" style=\"fill:#f7fcf5;\"/>\r\n    <path clip-path=\"url(#p1123ec8e06)\" d=\"M 202.438125 119.719219 \r\nL 291.718125 119.719219 \r\nL 291.718125 146.899219 \r\nL 202.438125 146.899219 \r\nL 202.438125 119.719219 \r\n\" style=\"fill:#00441b;\"/>\r\n    <path clip-path=\"url(#p1123ec8e06)\" d=\"M 291.718125 119.719219 \r\nL 380.998125 119.719219 \r\nL 380.998125 146.899219 \r\nL 291.718125 146.899219 \r\nL 291.718125 119.719219 \r\n\" style=\"fill:#f7fcf5;\"/>\r\n    <path clip-path=\"url(#p1123ec8e06)\" d=\"M 23.878125 146.899219 \r\nL 113.158125 146.899219 \r\nL 113.158125 174.079219 \r\nL 23.878125 174.079219 \r\nL 23.878125 146.899219 \r\n\" style=\"fill:#f7fcf5;\"/>\r\n    <path clip-path=\"url(#p1123ec8e06)\" d=\"M 113.158125 146.899219 \r\nL 202.438125 146.899219 \r\nL 202.438125 174.079219 \r\nL 113.158125 174.079219 \r\nL 113.158125 146.899219 \r\n\" style=\"fill:#f7fcf5;\"/>\r\n    <path clip-path=\"url(#p1123ec8e06)\" d=\"M 202.438125 146.899219 \r\nL 291.718125 146.899219 \r\nL 291.718125 174.079219 \r\nL 202.438125 174.079219 \r\nL 202.438125 146.899219 \r\n\" style=\"fill:#f7fcf5;\"/>\r\n    <path clip-path=\"url(#p1123ec8e06)\" d=\"M 291.718125 146.899219 \r\nL 380.998125 146.899219 \r\nL 380.998125 174.079219 \r\nL 291.718125 174.079219 \r\nL 291.718125 146.899219 \r\n\" style=\"fill:#f7fcf5;\"/>\r\n    <path clip-path=\"url(#p1123ec8e06)\" d=\"M 23.878125 174.079219 \r\nL 113.158125 174.079219 \r\nL 113.158125 201.259219 \r\nL 23.878125 201.259219 \r\nL 23.878125 174.079219 \r\n\" style=\"fill:#f7fcf5;\"/>\r\n    <path clip-path=\"url(#p1123ec8e06)\" d=\"M 113.158125 174.079219 \r\nL 202.438125 174.079219 \r\nL 202.438125 201.259219 \r\nL 113.158125 201.259219 \r\nL 113.158125 174.079219 \r\n\" style=\"fill:#00441b;\"/>\r\n    <path clip-path=\"url(#p1123ec8e06)\" d=\"M 202.438125 174.079219 \r\nL 291.718125 174.079219 \r\nL 291.718125 201.259219 \r\nL 202.438125 201.259219 \r\nL 202.438125 174.079219 \r\n\" style=\"fill:#f7fcf5;\"/>\r\n    <path clip-path=\"url(#p1123ec8e06)\" d=\"M 291.718125 174.079219 \r\nL 380.998125 174.079219 \r\nL 380.998125 201.259219 \r\nL 291.718125 201.259219 \r\nL 291.718125 174.079219 \r\n\" style=\"fill:#f7fcf5;\"/>\r\n    <path clip-path=\"url(#p1123ec8e06)\" d=\"M 23.878125 201.259219 \r\nL 113.158125 201.259219 \r\nL 113.158125 228.439219 \r\nL 23.878125 228.439219 \r\nL 23.878125 201.259219 \r\n\" style=\"fill:#f7fcf5;\"/>\r\n    <path clip-path=\"url(#p1123ec8e06)\" d=\"M 113.158125 201.259219 \r\nL 202.438125 201.259219 \r\nL 202.438125 228.439219 \r\nL 113.158125 228.439219 \r\nL 113.158125 201.259219 \r\n\" style=\"fill:#f7fcf5;\"/>\r\n    <path clip-path=\"url(#p1123ec8e06)\" d=\"M 202.438125 201.259219 \r\nL 291.718125 201.259219 \r\nL 291.718125 228.439219 \r\nL 202.438125 228.439219 \r\nL 202.438125 201.259219 \r\n\" style=\"fill:#f7fcf5;\"/>\r\n    <path clip-path=\"url(#p1123ec8e06)\" d=\"M 291.718125 201.259219 \r\nL 380.998125 201.259219 \r\nL 380.998125 228.439219 \r\nL 291.718125 228.439219 \r\nL 291.718125 201.259219 \r\n\" style=\"fill:#f7fcf5;\"/>\r\n    <path clip-path=\"url(#p1123ec8e06)\" d=\"M 23.878125 228.439219 \r\nL 113.158125 228.439219 \r\nL 113.158125 255.619219 \r\nL 23.878125 255.619219 \r\nL 23.878125 228.439219 \r\n\" style=\"fill:#f7fcf5;\"/>\r\n    <path clip-path=\"url(#p1123ec8e06)\" d=\"M 113.158125 228.439219 \r\nL 202.438125 228.439219 \r\nL 202.438125 255.619219 \r\nL 113.158125 255.619219 \r\nL 113.158125 228.439219 \r\n\" style=\"fill:#f7fcf5;\"/>\r\n    <path clip-path=\"url(#p1123ec8e06)\" d=\"M 202.438125 228.439219 \r\nL 291.718125 228.439219 \r\nL 291.718125 255.619219 \r\nL 202.438125 255.619219 \r\nL 202.438125 228.439219 \r\n\" style=\"fill:#f7fcf5;\"/>\r\n    <path clip-path=\"url(#p1123ec8e06)\" d=\"M 291.718125 228.439219 \r\nL 380.998125 228.439219 \r\nL 380.998125 255.619219 \r\nL 291.718125 255.619219 \r\nL 291.718125 228.439219 \r\n\" style=\"fill:#f7fcf5;\"/>\r\n    <path clip-path=\"url(#p1123ec8e06)\" d=\"M 23.878125 255.619219 \r\nL 113.158125 255.619219 \r\nL 113.158125 282.799219 \r\nL 23.878125 282.799219 \r\nL 23.878125 255.619219 \r\n\" style=\"fill:#f7fcf5;\"/>\r\n    <path clip-path=\"url(#p1123ec8e06)\" d=\"M 113.158125 255.619219 \r\nL 202.438125 255.619219 \r\nL 202.438125 282.799219 \r\nL 113.158125 282.799219 \r\nL 113.158125 255.619219 \r\n\" style=\"fill:#f7fcf5;\"/>\r\n    <path clip-path=\"url(#p1123ec8e06)\" d=\"M 202.438125 255.619219 \r\nL 291.718125 255.619219 \r\nL 291.718125 282.799219 \r\nL 202.438125 282.799219 \r\nL 202.438125 255.619219 \r\n\" style=\"fill:#f7fcf5;\"/>\r\n    <path clip-path=\"url(#p1123ec8e06)\" d=\"M 291.718125 255.619219 \r\nL 380.998125 255.619219 \r\nL 380.998125 282.799219 \r\nL 291.718125 282.799219 \r\nL 291.718125 255.619219 \r\n\" style=\"fill:#f7fcf5;\"/>\r\n   </g>\r\n   <g id=\"matplotlib.axis_1\">\r\n    <g id=\"xtick_1\">\r\n     <g id=\"line2d_1\">\r\n      <defs>\r\n       <path d=\"M 0 0 \r\nL 0 3.5 \r\n\" id=\"m9f37fdaf1f\" style=\"stroke:#000000;stroke-width:0.8;\"/>\r\n      </defs>\r\n      <g>\r\n       <use style=\"stroke:#000000;stroke-width:0.8;\" x=\"68.518125\" xlink:href=\"#m9f37fdaf1f\" y=\"282.799219\"/>\r\n      </g>\r\n     </g>\r\n     <g id=\"text_1\">\r\n      <!-- Country -->\r\n      <g transform=\"translate(48.654844 297.397656)scale(0.1 -0.1)\">\r\n       <defs>\r\n        <path d=\"M 4122 4306 \r\nL 4122 3641 \r\nQ 3803 3938 3442 4084 \r\nQ 3081 4231 2675 4231 \r\nQ 1875 4231 1450 3742 \r\nQ 1025 3253 1025 2328 \r\nQ 1025 1406 1450 917 \r\nQ 1875 428 2675 428 \r\nQ 3081 428 3442 575 \r\nQ 3803 722 4122 1019 \r\nL 4122 359 \r\nQ 3791 134 3420 21 \r\nQ 3050 -91 2638 -91 \r\nQ 1578 -91 968 557 \r\nQ 359 1206 359 2328 \r\nQ 359 3453 968 4101 \r\nQ 1578 4750 2638 4750 \r\nQ 3056 4750 3426 4639 \r\nQ 3797 4528 4122 4306 \r\nz\r\n\" id=\"DejaVuSans-43\" transform=\"scale(0.015625)\"/>\r\n        <path d=\"M 1959 3097 \r\nQ 1497 3097 1228 2736 \r\nQ 959 2375 959 1747 \r\nQ 959 1119 1226 758 \r\nQ 1494 397 1959 397 \r\nQ 2419 397 2687 759 \r\nQ 2956 1122 2956 1747 \r\nQ 2956 2369 2687 2733 \r\nQ 2419 3097 1959 3097 \r\nz\r\nM 1959 3584 \r\nQ 2709 3584 3137 3096 \r\nQ 3566 2609 3566 1747 \r\nQ 3566 888 3137 398 \r\nQ 2709 -91 1959 -91 \r\nQ 1206 -91 779 398 \r\nQ 353 888 353 1747 \r\nQ 353 2609 779 3096 \r\nQ 1206 3584 1959 3584 \r\nz\r\n\" id=\"DejaVuSans-6f\" transform=\"scale(0.015625)\"/>\r\n        <path d=\"M 544 1381 \r\nL 544 3500 \r\nL 1119 3500 \r\nL 1119 1403 \r\nQ 1119 906 1312 657 \r\nQ 1506 409 1894 409 \r\nQ 2359 409 2629 706 \r\nQ 2900 1003 2900 1516 \r\nL 2900 3500 \r\nL 3475 3500 \r\nL 3475 0 \r\nL 2900 0 \r\nL 2900 538 \r\nQ 2691 219 2414 64 \r\nQ 2138 -91 1772 -91 \r\nQ 1169 -91 856 284 \r\nQ 544 659 544 1381 \r\nz\r\nM 1991 3584 \r\nL 1991 3584 \r\nz\r\n\" id=\"DejaVuSans-75\" transform=\"scale(0.015625)\"/>\r\n        <path d=\"M 3513 2113 \r\nL 3513 0 \r\nL 2938 0 \r\nL 2938 2094 \r\nQ 2938 2591 2744 2837 \r\nQ 2550 3084 2163 3084 \r\nQ 1697 3084 1428 2787 \r\nQ 1159 2491 1159 1978 \r\nL 1159 0 \r\nL 581 0 \r\nL 581 3500 \r\nL 1159 3500 \r\nL 1159 2956 \r\nQ 1366 3272 1645 3428 \r\nQ 1925 3584 2291 3584 \r\nQ 2894 3584 3203 3211 \r\nQ 3513 2838 3513 2113 \r\nz\r\n\" id=\"DejaVuSans-6e\" transform=\"scale(0.015625)\"/>\r\n        <path d=\"M 1172 4494 \r\nL 1172 3500 \r\nL 2356 3500 \r\nL 2356 3053 \r\nL 1172 3053 \r\nL 1172 1153 \r\nQ 1172 725 1289 603 \r\nQ 1406 481 1766 481 \r\nL 2356 481 \r\nL 2356 0 \r\nL 1766 0 \r\nQ 1100 0 847 248 \r\nQ 594 497 594 1153 \r\nL 594 3053 \r\nL 172 3053 \r\nL 172 3500 \r\nL 594 3500 \r\nL 594 4494 \r\nL 1172 4494 \r\nz\r\n\" id=\"DejaVuSans-74\" transform=\"scale(0.015625)\"/>\r\n        <path d=\"M 2631 2963 \r\nQ 2534 3019 2420 3045 \r\nQ 2306 3072 2169 3072 \r\nQ 1681 3072 1420 2755 \r\nQ 1159 2438 1159 1844 \r\nL 1159 0 \r\nL 581 0 \r\nL 581 3500 \r\nL 1159 3500 \r\nL 1159 2956 \r\nQ 1341 3275 1631 3429 \r\nQ 1922 3584 2338 3584 \r\nQ 2397 3584 2469 3576 \r\nQ 2541 3569 2628 3553 \r\nL 2631 2963 \r\nz\r\n\" id=\"DejaVuSans-72\" transform=\"scale(0.015625)\"/>\r\n        <path d=\"M 2059 -325 \r\nQ 1816 -950 1584 -1140 \r\nQ 1353 -1331 966 -1331 \r\nL 506 -1331 \r\nL 506 -850 \r\nL 844 -850 \r\nQ 1081 -850 1212 -737 \r\nQ 1344 -625 1503 -206 \r\nL 1606 56 \r\nL 191 3500 \r\nL 800 3500 \r\nL 1894 763 \r\nL 2988 3500 \r\nL 3597 3500 \r\nL 2059 -325 \r\nz\r\n\" id=\"DejaVuSans-79\" transform=\"scale(0.015625)\"/>\r\n       </defs>\r\n       <use xlink:href=\"#DejaVuSans-43\"/>\r\n       <use x=\"69.824219\" xlink:href=\"#DejaVuSans-6f\"/>\r\n       <use x=\"131.005859\" xlink:href=\"#DejaVuSans-75\"/>\r\n       <use x=\"194.384766\" xlink:href=\"#DejaVuSans-6e\"/>\r\n       <use x=\"257.763672\" xlink:href=\"#DejaVuSans-74\"/>\r\n       <use x=\"296.972656\" xlink:href=\"#DejaVuSans-72\"/>\r\n       <use x=\"338.085938\" xlink:href=\"#DejaVuSans-79\"/>\r\n      </g>\r\n     </g>\r\n    </g>\r\n    <g id=\"xtick_2\">\r\n     <g id=\"line2d_2\">\r\n      <g>\r\n       <use style=\"stroke:#000000;stroke-width:0.8;\" x=\"157.798125\" xlink:href=\"#m9f37fdaf1f\" y=\"282.799219\"/>\r\n      </g>\r\n     </g>\r\n     <g id=\"text_2\">\r\n      <!-- Age -->\r\n      <g transform=\"translate(148.127031 297.397656)scale(0.1 -0.1)\">\r\n       <defs>\r\n        <path d=\"M 2188 4044 \r\nL 1331 1722 \r\nL 3047 1722 \r\nL 2188 4044 \r\nz\r\nM 1831 4666 \r\nL 2547 4666 \r\nL 4325 0 \r\nL 3669 0 \r\nL 3244 1197 \r\nL 1141 1197 \r\nL 716 0 \r\nL 50 0 \r\nL 1831 4666 \r\nz\r\n\" id=\"DejaVuSans-41\" transform=\"scale(0.015625)\"/>\r\n        <path d=\"M 2906 1791 \r\nQ 2906 2416 2648 2759 \r\nQ 2391 3103 1925 3103 \r\nQ 1463 3103 1205 2759 \r\nQ 947 2416 947 1791 \r\nQ 947 1169 1205 825 \r\nQ 1463 481 1925 481 \r\nQ 2391 481 2648 825 \r\nQ 2906 1169 2906 1791 \r\nz\r\nM 3481 434 \r\nQ 3481 -459 3084 -895 \r\nQ 2688 -1331 1869 -1331 \r\nQ 1566 -1331 1297 -1286 \r\nQ 1028 -1241 775 -1147 \r\nL 775 -588 \r\nQ 1028 -725 1275 -790 \r\nQ 1522 -856 1778 -856 \r\nQ 2344 -856 2625 -561 \r\nQ 2906 -266 2906 331 \r\nL 2906 616 \r\nQ 2728 306 2450 153 \r\nQ 2172 0 1784 0 \r\nQ 1141 0 747 490 \r\nQ 353 981 353 1791 \r\nQ 353 2603 747 3093 \r\nQ 1141 3584 1784 3584 \r\nQ 2172 3584 2450 3431 \r\nQ 2728 3278 2906 2969 \r\nL 2906 3500 \r\nL 3481 3500 \r\nL 3481 434 \r\nz\r\n\" id=\"DejaVuSans-67\" transform=\"scale(0.015625)\"/>\r\n        <path d=\"M 3597 1894 \r\nL 3597 1613 \r\nL 953 1613 \r\nQ 991 1019 1311 708 \r\nQ 1631 397 2203 397 \r\nQ 2534 397 2845 478 \r\nQ 3156 559 3463 722 \r\nL 3463 178 \r\nQ 3153 47 2828 -22 \r\nQ 2503 -91 2169 -91 \r\nQ 1331 -91 842 396 \r\nQ 353 884 353 1716 \r\nQ 353 2575 817 3079 \r\nQ 1281 3584 2069 3584 \r\nQ 2775 3584 3186 3129 \r\nQ 3597 2675 3597 1894 \r\nz\r\nM 3022 2063 \r\nQ 3016 2534 2758 2815 \r\nQ 2500 3097 2075 3097 \r\nQ 1594 3097 1305 2825 \r\nQ 1016 2553 972 2059 \r\nL 3022 2063 \r\nz\r\n\" id=\"DejaVuSans-65\" transform=\"scale(0.015625)\"/>\r\n       </defs>\r\n       <use xlink:href=\"#DejaVuSans-41\"/>\r\n       <use x=\"68.408203\" xlink:href=\"#DejaVuSans-67\"/>\r\n       <use x=\"131.884766\" xlink:href=\"#DejaVuSans-65\"/>\r\n      </g>\r\n     </g>\r\n    </g>\r\n    <g id=\"xtick_3\">\r\n     <g id=\"line2d_3\">\r\n      <g>\r\n       <use style=\"stroke:#000000;stroke-width:0.8;\" x=\"247.078125\" xlink:href=\"#m9f37fdaf1f\" y=\"282.799219\"/>\r\n      </g>\r\n     </g>\r\n     <g id=\"text_3\">\r\n      <!-- Salary -->\r\n      <g transform=\"translate(231.371875 297.397656)scale(0.1 -0.1)\">\r\n       <defs>\r\n        <path d=\"M 3425 4513 \r\nL 3425 3897 \r\nQ 3066 4069 2747 4153 \r\nQ 2428 4238 2131 4238 \r\nQ 1616 4238 1336 4038 \r\nQ 1056 3838 1056 3469 \r\nQ 1056 3159 1242 3001 \r\nQ 1428 2844 1947 2747 \r\nL 2328 2669 \r\nQ 3034 2534 3370 2195 \r\nQ 3706 1856 3706 1288 \r\nQ 3706 609 3251 259 \r\nQ 2797 -91 1919 -91 \r\nQ 1588 -91 1214 -16 \r\nQ 841 59 441 206 \r\nL 441 856 \r\nQ 825 641 1194 531 \r\nQ 1563 422 1919 422 \r\nQ 2459 422 2753 634 \r\nQ 3047 847 3047 1241 \r\nQ 3047 1584 2836 1778 \r\nQ 2625 1972 2144 2069 \r\nL 1759 2144 \r\nQ 1053 2284 737 2584 \r\nQ 422 2884 422 3419 \r\nQ 422 4038 858 4394 \r\nQ 1294 4750 2059 4750 \r\nQ 2388 4750 2728 4690 \r\nQ 3069 4631 3425 4513 \r\nz\r\n\" id=\"DejaVuSans-53\" transform=\"scale(0.015625)\"/>\r\n        <path d=\"M 2194 1759 \r\nQ 1497 1759 1228 1600 \r\nQ 959 1441 959 1056 \r\nQ 959 750 1161 570 \r\nQ 1363 391 1709 391 \r\nQ 2188 391 2477 730 \r\nQ 2766 1069 2766 1631 \r\nL 2766 1759 \r\nL 2194 1759 \r\nz\r\nM 3341 1997 \r\nL 3341 0 \r\nL 2766 0 \r\nL 2766 531 \r\nQ 2569 213 2275 61 \r\nQ 1981 -91 1556 -91 \r\nQ 1019 -91 701 211 \r\nQ 384 513 384 1019 \r\nQ 384 1609 779 1909 \r\nQ 1175 2209 1959 2209 \r\nL 2766 2209 \r\nL 2766 2266 \r\nQ 2766 2663 2505 2880 \r\nQ 2244 3097 1772 3097 \r\nQ 1472 3097 1187 3025 \r\nQ 903 2953 641 2809 \r\nL 641 3341 \r\nQ 956 3463 1253 3523 \r\nQ 1550 3584 1831 3584 \r\nQ 2591 3584 2966 3190 \r\nQ 3341 2797 3341 1997 \r\nz\r\n\" id=\"DejaVuSans-61\" transform=\"scale(0.015625)\"/>\r\n        <path d=\"M 603 4863 \r\nL 1178 4863 \r\nL 1178 0 \r\nL 603 0 \r\nL 603 4863 \r\nz\r\n\" id=\"DejaVuSans-6c\" transform=\"scale(0.015625)\"/>\r\n       </defs>\r\n       <use xlink:href=\"#DejaVuSans-53\"/>\r\n       <use x=\"63.476562\" xlink:href=\"#DejaVuSans-61\"/>\r\n       <use x=\"124.755859\" xlink:href=\"#DejaVuSans-6c\"/>\r\n       <use x=\"152.539062\" xlink:href=\"#DejaVuSans-61\"/>\r\n       <use x=\"213.818359\" xlink:href=\"#DejaVuSans-72\"/>\r\n       <use x=\"254.931641\" xlink:href=\"#DejaVuSans-79\"/>\r\n      </g>\r\n     </g>\r\n    </g>\r\n    <g id=\"xtick_4\">\r\n     <g id=\"line2d_4\">\r\n      <g>\r\n       <use style=\"stroke:#000000;stroke-width:0.8;\" x=\"336.358125\" xlink:href=\"#m9f37fdaf1f\" y=\"282.799219\"/>\r\n      </g>\r\n     </g>\r\n     <g id=\"text_4\">\r\n      <!-- Purchased -->\r\n      <g transform=\"translate(310.481563 297.397656)scale(0.1 -0.1)\">\r\n       <defs>\r\n        <path d=\"M 1259 4147 \r\nL 1259 2394 \r\nL 2053 2394 \r\nQ 2494 2394 2734 2622 \r\nQ 2975 2850 2975 3272 \r\nQ 2975 3691 2734 3919 \r\nQ 2494 4147 2053 4147 \r\nL 1259 4147 \r\nz\r\nM 628 4666 \r\nL 2053 4666 \r\nQ 2838 4666 3239 4311 \r\nQ 3641 3956 3641 3272 \r\nQ 3641 2581 3239 2228 \r\nQ 2838 1875 2053 1875 \r\nL 1259 1875 \r\nL 1259 0 \r\nL 628 0 \r\nL 628 4666 \r\nz\r\n\" id=\"DejaVuSans-50\" transform=\"scale(0.015625)\"/>\r\n        <path d=\"M 3122 3366 \r\nL 3122 2828 \r\nQ 2878 2963 2633 3030 \r\nQ 2388 3097 2138 3097 \r\nQ 1578 3097 1268 2742 \r\nQ 959 2388 959 1747 \r\nQ 959 1106 1268 751 \r\nQ 1578 397 2138 397 \r\nQ 2388 397 2633 464 \r\nQ 2878 531 3122 666 \r\nL 3122 134 \r\nQ 2881 22 2623 -34 \r\nQ 2366 -91 2075 -91 \r\nQ 1284 -91 818 406 \r\nQ 353 903 353 1747 \r\nQ 353 2603 823 3093 \r\nQ 1294 3584 2113 3584 \r\nQ 2378 3584 2631 3529 \r\nQ 2884 3475 3122 3366 \r\nz\r\n\" id=\"DejaVuSans-63\" transform=\"scale(0.015625)\"/>\r\n        <path d=\"M 3513 2113 \r\nL 3513 0 \r\nL 2938 0 \r\nL 2938 2094 \r\nQ 2938 2591 2744 2837 \r\nQ 2550 3084 2163 3084 \r\nQ 1697 3084 1428 2787 \r\nQ 1159 2491 1159 1978 \r\nL 1159 0 \r\nL 581 0 \r\nL 581 4863 \r\nL 1159 4863 \r\nL 1159 2956 \r\nQ 1366 3272 1645 3428 \r\nQ 1925 3584 2291 3584 \r\nQ 2894 3584 3203 3211 \r\nQ 3513 2838 3513 2113 \r\nz\r\n\" id=\"DejaVuSans-68\" transform=\"scale(0.015625)\"/>\r\n        <path d=\"M 2834 3397 \r\nL 2834 2853 \r\nQ 2591 2978 2328 3040 \r\nQ 2066 3103 1784 3103 \r\nQ 1356 3103 1142 2972 \r\nQ 928 2841 928 2578 \r\nQ 928 2378 1081 2264 \r\nQ 1234 2150 1697 2047 \r\nL 1894 2003 \r\nQ 2506 1872 2764 1633 \r\nQ 3022 1394 3022 966 \r\nQ 3022 478 2636 193 \r\nQ 2250 -91 1575 -91 \r\nQ 1294 -91 989 -36 \r\nQ 684 19 347 128 \r\nL 347 722 \r\nQ 666 556 975 473 \r\nQ 1284 391 1588 391 \r\nQ 1994 391 2212 530 \r\nQ 2431 669 2431 922 \r\nQ 2431 1156 2273 1281 \r\nQ 2116 1406 1581 1522 \r\nL 1381 1569 \r\nQ 847 1681 609 1914 \r\nQ 372 2147 372 2553 \r\nQ 372 3047 722 3315 \r\nQ 1072 3584 1716 3584 \r\nQ 2034 3584 2315 3537 \r\nQ 2597 3491 2834 3397 \r\nz\r\n\" id=\"DejaVuSans-73\" transform=\"scale(0.015625)\"/>\r\n        <path d=\"M 2906 2969 \r\nL 2906 4863 \r\nL 3481 4863 \r\nL 3481 0 \r\nL 2906 0 \r\nL 2906 525 \r\nQ 2725 213 2448 61 \r\nQ 2172 -91 1784 -91 \r\nQ 1150 -91 751 415 \r\nQ 353 922 353 1747 \r\nQ 353 2572 751 3078 \r\nQ 1150 3584 1784 3584 \r\nQ 2172 3584 2448 3432 \r\nQ 2725 3281 2906 2969 \r\nz\r\nM 947 1747 \r\nQ 947 1113 1208 752 \r\nQ 1469 391 1925 391 \r\nQ 2381 391 2643 752 \r\nQ 2906 1113 2906 1747 \r\nQ 2906 2381 2643 2742 \r\nQ 2381 3103 1925 3103 \r\nQ 1469 3103 1208 2742 \r\nQ 947 2381 947 1747 \r\nz\r\n\" id=\"DejaVuSans-64\" transform=\"scale(0.015625)\"/>\r\n       </defs>\r\n       <use xlink:href=\"#DejaVuSans-50\"/>\r\n       <use x=\"58.552734\" xlink:href=\"#DejaVuSans-75\"/>\r\n       <use x=\"121.931641\" xlink:href=\"#DejaVuSans-72\"/>\r\n       <use x=\"160.794922\" xlink:href=\"#DejaVuSans-63\"/>\r\n       <use x=\"215.775391\" xlink:href=\"#DejaVuSans-68\"/>\r\n       <use x=\"279.154297\" xlink:href=\"#DejaVuSans-61\"/>\r\n       <use x=\"340.433594\" xlink:href=\"#DejaVuSans-73\"/>\r\n       <use x=\"392.533203\" xlink:href=\"#DejaVuSans-65\"/>\r\n       <use x=\"454.056641\" xlink:href=\"#DejaVuSans-64\"/>\r\n      </g>\r\n     </g>\r\n    </g>\r\n   </g>\r\n   <g id=\"matplotlib.axis_2\">\r\n    <g id=\"ytick_1\">\r\n     <g id=\"line2d_5\">\r\n      <defs>\r\n       <path d=\"M 0 0 \r\nL -3.5 0 \r\n\" id=\"m0088d9543f\" style=\"stroke:#000000;stroke-width:0.8;\"/>\r\n      </defs>\r\n      <g>\r\n       <use style=\"stroke:#000000;stroke-width:0.8;\" x=\"23.878125\" xlink:href=\"#m0088d9543f\" y=\"24.589219\"/>\r\n      </g>\r\n     </g>\r\n     <g id=\"text_5\">\r\n      <!-- 0 -->\r\n      <g transform=\"translate(14.798438 27.770469)rotate(-90)scale(0.1 -0.1)\">\r\n       <defs>\r\n        <path d=\"M 2034 4250 \r\nQ 1547 4250 1301 3770 \r\nQ 1056 3291 1056 2328 \r\nQ 1056 1369 1301 889 \r\nQ 1547 409 2034 409 \r\nQ 2525 409 2770 889 \r\nQ 3016 1369 3016 2328 \r\nQ 3016 3291 2770 3770 \r\nQ 2525 4250 2034 4250 \r\nz\r\nM 2034 4750 \r\nQ 2819 4750 3233 4129 \r\nQ 3647 3509 3647 2328 \r\nQ 3647 1150 3233 529 \r\nQ 2819 -91 2034 -91 \r\nQ 1250 -91 836 529 \r\nQ 422 1150 422 2328 \r\nQ 422 3509 836 4129 \r\nQ 1250 4750 2034 4750 \r\nz\r\n\" id=\"DejaVuSans-30\" transform=\"scale(0.015625)\"/>\r\n       </defs>\r\n       <use xlink:href=\"#DejaVuSans-30\"/>\r\n      </g>\r\n     </g>\r\n    </g>\r\n    <g id=\"ytick_2\">\r\n     <g id=\"line2d_6\">\r\n      <g>\r\n       <use style=\"stroke:#000000;stroke-width:0.8;\" x=\"23.878125\" xlink:href=\"#m0088d9543f\" y=\"51.769219\"/>\r\n      </g>\r\n     </g>\r\n     <g id=\"text_6\">\r\n      <!-- 1 -->\r\n      <g transform=\"translate(14.798438 54.950469)rotate(-90)scale(0.1 -0.1)\">\r\n       <defs>\r\n        <path d=\"M 794 531 \r\nL 1825 531 \r\nL 1825 4091 \r\nL 703 3866 \r\nL 703 4441 \r\nL 1819 4666 \r\nL 2450 4666 \r\nL 2450 531 \r\nL 3481 531 \r\nL 3481 0 \r\nL 794 0 \r\nL 794 531 \r\nz\r\n\" id=\"DejaVuSans-31\" transform=\"scale(0.015625)\"/>\r\n       </defs>\r\n       <use xlink:href=\"#DejaVuSans-31\"/>\r\n      </g>\r\n     </g>\r\n    </g>\r\n    <g id=\"ytick_3\">\r\n     <g id=\"line2d_7\">\r\n      <g>\r\n       <use style=\"stroke:#000000;stroke-width:0.8;\" x=\"23.878125\" xlink:href=\"#m0088d9543f\" y=\"78.949219\"/>\r\n      </g>\r\n     </g>\r\n     <g id=\"text_7\">\r\n      <!-- 2 -->\r\n      <g transform=\"translate(14.798438 82.130469)rotate(-90)scale(0.1 -0.1)\">\r\n       <defs>\r\n        <path d=\"M 1228 531 \r\nL 3431 531 \r\nL 3431 0 \r\nL 469 0 \r\nL 469 531 \r\nQ 828 903 1448 1529 \r\nQ 2069 2156 2228 2338 \r\nQ 2531 2678 2651 2914 \r\nQ 2772 3150 2772 3378 \r\nQ 2772 3750 2511 3984 \r\nQ 2250 4219 1831 4219 \r\nQ 1534 4219 1204 4116 \r\nQ 875 4013 500 3803 \r\nL 500 4441 \r\nQ 881 4594 1212 4672 \r\nQ 1544 4750 1819 4750 \r\nQ 2544 4750 2975 4387 \r\nQ 3406 4025 3406 3419 \r\nQ 3406 3131 3298 2873 \r\nQ 3191 2616 2906 2266 \r\nQ 2828 2175 2409 1742 \r\nQ 1991 1309 1228 531 \r\nz\r\n\" id=\"DejaVuSans-32\" transform=\"scale(0.015625)\"/>\r\n       </defs>\r\n       <use xlink:href=\"#DejaVuSans-32\"/>\r\n      </g>\r\n     </g>\r\n    </g>\r\n    <g id=\"ytick_4\">\r\n     <g id=\"line2d_8\">\r\n      <g>\r\n       <use style=\"stroke:#000000;stroke-width:0.8;\" x=\"23.878125\" xlink:href=\"#m0088d9543f\" y=\"106.129219\"/>\r\n      </g>\r\n     </g>\r\n     <g id=\"text_8\">\r\n      <!-- 3 -->\r\n      <g transform=\"translate(14.798438 109.310469)rotate(-90)scale(0.1 -0.1)\">\r\n       <defs>\r\n        <path d=\"M 2597 2516 \r\nQ 3050 2419 3304 2112 \r\nQ 3559 1806 3559 1356 \r\nQ 3559 666 3084 287 \r\nQ 2609 -91 1734 -91 \r\nQ 1441 -91 1130 -33 \r\nQ 819 25 488 141 \r\nL 488 750 \r\nQ 750 597 1062 519 \r\nQ 1375 441 1716 441 \r\nQ 2309 441 2620 675 \r\nQ 2931 909 2931 1356 \r\nQ 2931 1769 2642 2001 \r\nQ 2353 2234 1838 2234 \r\nL 1294 2234 \r\nL 1294 2753 \r\nL 1863 2753 \r\nQ 2328 2753 2575 2939 \r\nQ 2822 3125 2822 3475 \r\nQ 2822 3834 2567 4026 \r\nQ 2313 4219 1838 4219 \r\nQ 1578 4219 1281 4162 \r\nQ 984 4106 628 3988 \r\nL 628 4550 \r\nQ 988 4650 1302 4700 \r\nQ 1616 4750 1894 4750 \r\nQ 2613 4750 3031 4423 \r\nQ 3450 4097 3450 3541 \r\nQ 3450 3153 3228 2886 \r\nQ 3006 2619 2597 2516 \r\nz\r\n\" id=\"DejaVuSans-33\" transform=\"scale(0.015625)\"/>\r\n       </defs>\r\n       <use xlink:href=\"#DejaVuSans-33\"/>\r\n      </g>\r\n     </g>\r\n    </g>\r\n    <g id=\"ytick_5\">\r\n     <g id=\"line2d_9\">\r\n      <g>\r\n       <use style=\"stroke:#000000;stroke-width:0.8;\" x=\"23.878125\" xlink:href=\"#m0088d9543f\" y=\"133.309219\"/>\r\n      </g>\r\n     </g>\r\n     <g id=\"text_9\">\r\n      <!-- 4 -->\r\n      <g transform=\"translate(14.798438 136.490469)rotate(-90)scale(0.1 -0.1)\">\r\n       <defs>\r\n        <path d=\"M 2419 4116 \r\nL 825 1625 \r\nL 2419 1625 \r\nL 2419 4116 \r\nz\r\nM 2253 4666 \r\nL 3047 4666 \r\nL 3047 1625 \r\nL 3713 1625 \r\nL 3713 1100 \r\nL 3047 1100 \r\nL 3047 0 \r\nL 2419 0 \r\nL 2419 1100 \r\nL 313 1100 \r\nL 313 1709 \r\nL 2253 4666 \r\nz\r\n\" id=\"DejaVuSans-34\" transform=\"scale(0.015625)\"/>\r\n       </defs>\r\n       <use xlink:href=\"#DejaVuSans-34\"/>\r\n      </g>\r\n     </g>\r\n    </g>\r\n    <g id=\"ytick_6\">\r\n     <g id=\"line2d_10\">\r\n      <g>\r\n       <use style=\"stroke:#000000;stroke-width:0.8;\" x=\"23.878125\" xlink:href=\"#m0088d9543f\" y=\"160.489219\"/>\r\n      </g>\r\n     </g>\r\n     <g id=\"text_10\">\r\n      <!-- 5 -->\r\n      <g transform=\"translate(14.798438 163.670469)rotate(-90)scale(0.1 -0.1)\">\r\n       <defs>\r\n        <path d=\"M 691 4666 \r\nL 3169 4666 \r\nL 3169 4134 \r\nL 1269 4134 \r\nL 1269 2991 \r\nQ 1406 3038 1543 3061 \r\nQ 1681 3084 1819 3084 \r\nQ 2600 3084 3056 2656 \r\nQ 3513 2228 3513 1497 \r\nQ 3513 744 3044 326 \r\nQ 2575 -91 1722 -91 \r\nQ 1428 -91 1123 -41 \r\nQ 819 9 494 109 \r\nL 494 744 \r\nQ 775 591 1075 516 \r\nQ 1375 441 1709 441 \r\nQ 2250 441 2565 725 \r\nQ 2881 1009 2881 1497 \r\nQ 2881 1984 2565 2268 \r\nQ 2250 2553 1709 2553 \r\nQ 1456 2553 1204 2497 \r\nQ 953 2441 691 2322 \r\nL 691 4666 \r\nz\r\n\" id=\"DejaVuSans-35\" transform=\"scale(0.015625)\"/>\r\n       </defs>\r\n       <use xlink:href=\"#DejaVuSans-35\"/>\r\n      </g>\r\n     </g>\r\n    </g>\r\n    <g id=\"ytick_7\">\r\n     <g id=\"line2d_11\">\r\n      <g>\r\n       <use style=\"stroke:#000000;stroke-width:0.8;\" x=\"23.878125\" xlink:href=\"#m0088d9543f\" y=\"187.669219\"/>\r\n      </g>\r\n     </g>\r\n     <g id=\"text_11\">\r\n      <!-- 6 -->\r\n      <g transform=\"translate(14.798438 190.850469)rotate(-90)scale(0.1 -0.1)\">\r\n       <defs>\r\n        <path d=\"M 2113 2584 \r\nQ 1688 2584 1439 2293 \r\nQ 1191 2003 1191 1497 \r\nQ 1191 994 1439 701 \r\nQ 1688 409 2113 409 \r\nQ 2538 409 2786 701 \r\nQ 3034 994 3034 1497 \r\nQ 3034 2003 2786 2293 \r\nQ 2538 2584 2113 2584 \r\nz\r\nM 3366 4563 \r\nL 3366 3988 \r\nQ 3128 4100 2886 4159 \r\nQ 2644 4219 2406 4219 \r\nQ 1781 4219 1451 3797 \r\nQ 1122 3375 1075 2522 \r\nQ 1259 2794 1537 2939 \r\nQ 1816 3084 2150 3084 \r\nQ 2853 3084 3261 2657 \r\nQ 3669 2231 3669 1497 \r\nQ 3669 778 3244 343 \r\nQ 2819 -91 2113 -91 \r\nQ 1303 -91 875 529 \r\nQ 447 1150 447 2328 \r\nQ 447 3434 972 4092 \r\nQ 1497 4750 2381 4750 \r\nQ 2619 4750 2861 4703 \r\nQ 3103 4656 3366 4563 \r\nz\r\n\" id=\"DejaVuSans-36\" transform=\"scale(0.015625)\"/>\r\n       </defs>\r\n       <use xlink:href=\"#DejaVuSans-36\"/>\r\n      </g>\r\n     </g>\r\n    </g>\r\n    <g id=\"ytick_8\">\r\n     <g id=\"line2d_12\">\r\n      <g>\r\n       <use style=\"stroke:#000000;stroke-width:0.8;\" x=\"23.878125\" xlink:href=\"#m0088d9543f\" y=\"214.849219\"/>\r\n      </g>\r\n     </g>\r\n     <g id=\"text_12\">\r\n      <!-- 7 -->\r\n      <g transform=\"translate(14.798438 218.030469)rotate(-90)scale(0.1 -0.1)\">\r\n       <defs>\r\n        <path d=\"M 525 4666 \r\nL 3525 4666 \r\nL 3525 4397 \r\nL 1831 0 \r\nL 1172 0 \r\nL 2766 4134 \r\nL 525 4134 \r\nL 525 4666 \r\nz\r\n\" id=\"DejaVuSans-37\" transform=\"scale(0.015625)\"/>\r\n       </defs>\r\n       <use xlink:href=\"#DejaVuSans-37\"/>\r\n      </g>\r\n     </g>\r\n    </g>\r\n    <g id=\"ytick_9\">\r\n     <g id=\"line2d_13\">\r\n      <g>\r\n       <use style=\"stroke:#000000;stroke-width:0.8;\" x=\"23.878125\" xlink:href=\"#m0088d9543f\" y=\"242.029219\"/>\r\n      </g>\r\n     </g>\r\n     <g id=\"text_13\">\r\n      <!-- 8 -->\r\n      <g transform=\"translate(14.798438 245.210469)rotate(-90)scale(0.1 -0.1)\">\r\n       <defs>\r\n        <path d=\"M 2034 2216 \r\nQ 1584 2216 1326 1975 \r\nQ 1069 1734 1069 1313 \r\nQ 1069 891 1326 650 \r\nQ 1584 409 2034 409 \r\nQ 2484 409 2743 651 \r\nQ 3003 894 3003 1313 \r\nQ 3003 1734 2745 1975 \r\nQ 2488 2216 2034 2216 \r\nz\r\nM 1403 2484 \r\nQ 997 2584 770 2862 \r\nQ 544 3141 544 3541 \r\nQ 544 4100 942 4425 \r\nQ 1341 4750 2034 4750 \r\nQ 2731 4750 3128 4425 \r\nQ 3525 4100 3525 3541 \r\nQ 3525 3141 3298 2862 \r\nQ 3072 2584 2669 2484 \r\nQ 3125 2378 3379 2068 \r\nQ 3634 1759 3634 1313 \r\nQ 3634 634 3220 271 \r\nQ 2806 -91 2034 -91 \r\nQ 1263 -91 848 271 \r\nQ 434 634 434 1313 \r\nQ 434 1759 690 2068 \r\nQ 947 2378 1403 2484 \r\nz\r\nM 1172 3481 \r\nQ 1172 3119 1398 2916 \r\nQ 1625 2713 2034 2713 \r\nQ 2441 2713 2670 2916 \r\nQ 2900 3119 2900 3481 \r\nQ 2900 3844 2670 4047 \r\nQ 2441 4250 2034 4250 \r\nQ 1625 4250 1398 4047 \r\nQ 1172 3844 1172 3481 \r\nz\r\n\" id=\"DejaVuSans-38\" transform=\"scale(0.015625)\"/>\r\n       </defs>\r\n       <use xlink:href=\"#DejaVuSans-38\"/>\r\n      </g>\r\n     </g>\r\n    </g>\r\n    <g id=\"ytick_10\">\r\n     <g id=\"line2d_14\">\r\n      <g>\r\n       <use style=\"stroke:#000000;stroke-width:0.8;\" x=\"23.878125\" xlink:href=\"#m0088d9543f\" y=\"269.209219\"/>\r\n      </g>\r\n     </g>\r\n     <g id=\"text_14\">\r\n      <!-- 9 -->\r\n      <g transform=\"translate(14.798438 272.390469)rotate(-90)scale(0.1 -0.1)\">\r\n       <defs>\r\n        <path d=\"M 703 97 \r\nL 703 672 \r\nQ 941 559 1184 500 \r\nQ 1428 441 1663 441 \r\nQ 2288 441 2617 861 \r\nQ 2947 1281 2994 2138 \r\nQ 2813 1869 2534 1725 \r\nQ 2256 1581 1919 1581 \r\nQ 1219 1581 811 2004 \r\nQ 403 2428 403 3163 \r\nQ 403 3881 828 4315 \r\nQ 1253 4750 1959 4750 \r\nQ 2769 4750 3195 4129 \r\nQ 3622 3509 3622 2328 \r\nQ 3622 1225 3098 567 \r\nQ 2575 -91 1691 -91 \r\nQ 1453 -91 1209 -44 \r\nQ 966 3 703 97 \r\nz\r\nM 1959 2075 \r\nQ 2384 2075 2632 2365 \r\nQ 2881 2656 2881 3163 \r\nQ 2881 3666 2632 3958 \r\nQ 2384 4250 1959 4250 \r\nQ 1534 4250 1286 3958 \r\nQ 1038 3666 1038 3163 \r\nQ 1038 2656 1286 2365 \r\nQ 1534 2075 1959 2075 \r\nz\r\n\" id=\"DejaVuSans-39\" transform=\"scale(0.015625)\"/>\r\n       </defs>\r\n       <use xlink:href=\"#DejaVuSans-39\"/>\r\n      </g>\r\n     </g>\r\n    </g>\r\n   </g>\r\n  </g>\r\n  <g id=\"axes_2\">\r\n   <g id=\"patch_3\">\r\n    <path d=\"M 403.318125 282.799219 \r\nL 416.908125 282.799219 \r\nL 416.908125 10.999219 \r\nL 403.318125 10.999219 \r\nz\r\n\" style=\"fill:#ffffff;\"/>\r\n   </g>\r\n   <g id=\"patch_4\">\r\n    <path clip-path=\"url(#p6da22839ff)\" d=\"M 403.318125 282.799219 \r\nL 403.318125 281.7375 \r\nL 403.318125 12.060937 \r\nL 403.318125 10.999219 \r\nL 416.908125 10.999219 \r\nL 416.908125 12.060937 \r\nL 416.908125 281.7375 \r\nL 416.908125 282.799219 \r\nL 416.908125 282.799219 \r\nz\r\n\" style=\"fill:#ffffff;stroke:#ffffff;stroke-linejoin:miter;stroke-width:0.01;\"/>\r\n   </g>\r\n   <image height=\"272\" id=\"image7d93c36ed8\" transform=\"scale(1 -1)translate(0 -272)\" width=\"14\" x=\"403\" xlink:href=\"data:image/png;base64,\r\niVBORw0KGgoAAAANSUhEUgAAAA4AAAEQCAYAAACA40WOAAABSklEQVR4nO1awQ0DMQijVfbftuqnSjrB8TCKLSfkbxmMIeR0r+/vswI4YwWEizeEioixFsY4Agx1YLASI5qjIFS2Ado5KWM7J2EExSkwtjjPjN1WCZDeVpUcfRg71MejaOTzVb0j1BZnB9BnXYnzVRUwzphkRiNVJ87ooqrgqTsFBnApR8Vy56uqcI4RI1YOfALcUI5Cjud3h2JYgaryQ6UzKq5y2OR8VX3aymiZN1pX+Ms8yiho5O7HjJFvOVwc7FiJA8EU5Sis1q3qBsYWJwNCMM2NzGasvJFBoJWqEK7ytww9RxCneAV0jhuAlZ0cBrqII8ixJ8AeIIRzyrEbOQdCOEmogu9yEE6xkl1gAMVXsvNVrXgVwplNAB9xbJxzxY0MWrWw6Ab4LJeESmfsHBMg6JzC3938crDF8QoVZewcE6DRBKBf5XRx/vMTUZD4V+H1AAAAAElFTkSuQmCC\" y=\"-10\"/>\r\n   <g id=\"matplotlib.axis_3\"/>\r\n   <g id=\"matplotlib.axis_4\">\r\n    <g id=\"ytick_11\">\r\n     <g id=\"line2d_15\">\r\n      <defs>\r\n       <path d=\"M 0 0 \r\nL 3.5 0 \r\n\" id=\"m98092a40d6\" style=\"stroke:#000000;stroke-width:0.8;\"/>\r\n      </defs>\r\n      <g>\r\n       <use style=\"stroke:#000000;stroke-width:0.8;\" x=\"416.908125\" xlink:href=\"#m98092a40d6\" y=\"282.799219\"/>\r\n      </g>\r\n     </g>\r\n     <g id=\"text_15\">\r\n      <!-- 0.0 -->\r\n      <g transform=\"translate(423.908125 286.598437)scale(0.1 -0.1)\">\r\n       <defs>\r\n        <path d=\"M 684 794 \r\nL 1344 794 \r\nL 1344 0 \r\nL 684 0 \r\nL 684 794 \r\nz\r\n\" id=\"DejaVuSans-2e\" transform=\"scale(0.015625)\"/>\r\n       </defs>\r\n       <use xlink:href=\"#DejaVuSans-30\"/>\r\n       <use x=\"63.623047\" xlink:href=\"#DejaVuSans-2e\"/>\r\n       <use x=\"95.410156\" xlink:href=\"#DejaVuSans-30\"/>\r\n      </g>\r\n     </g>\r\n    </g>\r\n    <g id=\"ytick_12\">\r\n     <g id=\"line2d_16\">\r\n      <g>\r\n       <use style=\"stroke:#000000;stroke-width:0.8;\" x=\"416.908125\" xlink:href=\"#m98092a40d6\" y=\"228.439219\"/>\r\n      </g>\r\n     </g>\r\n     <g id=\"text_16\">\r\n      <!-- 0.2 -->\r\n      <g transform=\"translate(423.908125 232.238437)scale(0.1 -0.1)\">\r\n       <use xlink:href=\"#DejaVuSans-30\"/>\r\n       <use x=\"63.623047\" xlink:href=\"#DejaVuSans-2e\"/>\r\n       <use x=\"95.410156\" xlink:href=\"#DejaVuSans-32\"/>\r\n      </g>\r\n     </g>\r\n    </g>\r\n    <g id=\"ytick_13\">\r\n     <g id=\"line2d_17\">\r\n      <g>\r\n       <use style=\"stroke:#000000;stroke-width:0.8;\" x=\"416.908125\" xlink:href=\"#m98092a40d6\" y=\"174.079219\"/>\r\n      </g>\r\n     </g>\r\n     <g id=\"text_17\">\r\n      <!-- 0.4 -->\r\n      <g transform=\"translate(423.908125 177.878437)scale(0.1 -0.1)\">\r\n       <use xlink:href=\"#DejaVuSans-30\"/>\r\n       <use x=\"63.623047\" xlink:href=\"#DejaVuSans-2e\"/>\r\n       <use x=\"95.410156\" xlink:href=\"#DejaVuSans-34\"/>\r\n      </g>\r\n     </g>\r\n    </g>\r\n    <g id=\"ytick_14\">\r\n     <g id=\"line2d_18\">\r\n      <g>\r\n       <use style=\"stroke:#000000;stroke-width:0.8;\" x=\"416.908125\" xlink:href=\"#m98092a40d6\" y=\"119.719219\"/>\r\n      </g>\r\n     </g>\r\n     <g id=\"text_18\">\r\n      <!-- 0.6 -->\r\n      <g transform=\"translate(423.908125 123.518437)scale(0.1 -0.1)\">\r\n       <use xlink:href=\"#DejaVuSans-30\"/>\r\n       <use x=\"63.623047\" xlink:href=\"#DejaVuSans-2e\"/>\r\n       <use x=\"95.410156\" xlink:href=\"#DejaVuSans-36\"/>\r\n      </g>\r\n     </g>\r\n    </g>\r\n    <g id=\"ytick_15\">\r\n     <g id=\"line2d_19\">\r\n      <g>\r\n       <use style=\"stroke:#000000;stroke-width:0.8;\" x=\"416.908125\" xlink:href=\"#m98092a40d6\" y=\"65.359219\"/>\r\n      </g>\r\n     </g>\r\n     <g id=\"text_19\">\r\n      <!-- 0.8 -->\r\n      <g transform=\"translate(423.908125 69.158437)scale(0.1 -0.1)\">\r\n       <use xlink:href=\"#DejaVuSans-30\"/>\r\n       <use x=\"63.623047\" xlink:href=\"#DejaVuSans-2e\"/>\r\n       <use x=\"95.410156\" xlink:href=\"#DejaVuSans-38\"/>\r\n      </g>\r\n     </g>\r\n    </g>\r\n    <g id=\"ytick_16\">\r\n     <g id=\"line2d_20\">\r\n      <g>\r\n       <use style=\"stroke:#000000;stroke-width:0.8;\" x=\"416.908125\" xlink:href=\"#m98092a40d6\" y=\"10.999219\"/>\r\n      </g>\r\n     </g>\r\n     <g id=\"text_20\">\r\n      <!-- 1.0 -->\r\n      <g transform=\"translate(423.908125 14.798437)scale(0.1 -0.1)\">\r\n       <use xlink:href=\"#DejaVuSans-31\"/>\r\n       <use x=\"63.623047\" xlink:href=\"#DejaVuSans-2e\"/>\r\n       <use x=\"95.410156\" xlink:href=\"#DejaVuSans-30\"/>\r\n      </g>\r\n     </g>\r\n    </g>\r\n   </g>\r\n   <g id=\"LineCollection_1\"/>\r\n   <g id=\"patch_5\">\r\n    <path d=\"M 403.318125 282.799219 \r\nL 403.318125 281.7375 \r\nL 403.318125 12.060937 \r\nL 403.318125 10.999219 \r\nL 416.908125 10.999219 \r\nL 416.908125 12.060937 \r\nL 416.908125 281.7375 \r\nL 416.908125 282.799219 \r\nz\r\n\" style=\"fill:none;\"/>\r\n   </g>\r\n  </g>\r\n </g>\r\n <defs>\r\n  <clipPath id=\"p1123ec8e06\">\r\n   <rect height=\"271.8\" width=\"357.12\" x=\"23.878125\" y=\"10.999219\"/>\r\n  </clipPath>\r\n  <clipPath id=\"p6da22839ff\">\r\n   <rect height=\"271.8\" width=\"13.59\" x=\"403.318125\" y=\"10.999219\"/>\r\n  </clipPath>\r\n </defs>\r\n</svg>\r\n",
      "image/png": "[encoded data removed]"
     },
     "metadata": {
      "needs_background": "light"
     }
    }
   ],
   "metadata": {}
  },
  {
   "cell_type": "code",
   "execution_count": 6,
   "source": [
    "# Bỏ cột chú thích màu \"cbar= False\"\r\n",
    "# Bỏ yticklabels=False \r\n",
    "\r\n",
    "fig, ax = plt.subplots()#figsize=(8,5)\r\n",
    "sns.heatmap(data= data_df.isna(), cmap= 'Greens', cbar= False, yticklabels=False)"
   ],
   "outputs": [
    {
     "output_type": "execute_result",
     "data": {
      "text/plain": [
       "<AxesSubplot:>"
      ]
     },
     "metadata": {},
     "execution_count": 6
    },
    {
     "output_type": "display_data",
     "data": {
      "text/plain": [
       "<Figure size 432x288 with 1 Axes>"
      ],
      "image/svg+xml": "<?xml version=\"1.0\" encoding=\"utf-8\" standalone=\"no\"?>\r\n<!DOCTYPE svg PUBLIC \"-//W3C//DTD SVG 1.1//EN\"\r\n  \"http://www.w3.org/Graphics/SVG/1.1/DTD/svg11.dtd\">\r\n<svg height=\"248.518125pt\" version=\"1.1\" viewBox=\"0 0 349.2 248.518125\" width=\"349.2pt\" xmlns=\"http://www.w3.org/2000/svg\" xmlns:xlink=\"http://www.w3.org/1999/xlink\">\r\n <metadata>\r\n  <rdf:RDF xmlns:cc=\"http://creativecommons.org/ns#\" xmlns:dc=\"http://purl.org/dc/elements/1.1/\" xmlns:rdf=\"http://www.w3.org/1999/02/22-rdf-syntax-ns#\">\r\n   <cc:Work>\r\n    <dc:type rdf:resource=\"http://purl.org/dc/dcmitype/StillImage\"/>\r\n    <dc:date>2021-08-30T16:05:11.057324</dc:date>\r\n    <dc:format>image/svg+xml</dc:format>\r\n    <dc:creator>\r\n     <cc:Agent>\r\n      <dc:title>Matplotlib v3.4.2, https://matplotlib.org/</dc:title>\r\n     </cc:Agent>\r\n    </dc:creator>\r\n   </cc:Work>\r\n  </rdf:RDF>\r\n </metadata>\r\n <defs>\r\n  <style type=\"text/css\">*{stroke-linecap:butt;stroke-linejoin:round;}</style>\r\n </defs>\r\n <g id=\"figure_1\">\r\n  <g id=\"patch_1\">\r\n   <path d=\"M 0 248.518125 \r\nL 349.2 248.518125 \r\nL 349.2 0 \r\nL 0 0 \r\nz\r\n\" style=\"fill:none;\"/>\r\n  </g>\r\n  <g id=\"axes_1\">\r\n   <g id=\"patch_2\">\r\n    <path d=\"M 7.2 224.64 \r\nL 342 224.64 \r\nL 342 7.2 \r\nL 7.2 7.2 \r\nz\r\n\" style=\"fill:#ffffff;\"/>\r\n   </g>\r\n   <g id=\"QuadMesh_1\">\r\n    <path clip-path=\"url(#pdc0ca972b3)\" d=\"M 7.2 7.2 \r\nL 90.9 7.2 \r\nL 90.9 28.944 \r\nL 7.2 28.944 \r\nL 7.2 7.2 \r\n\" style=\"fill:#f7fcf5;\"/>\r\n    <path clip-path=\"url(#pdc0ca972b3)\" d=\"M 90.9 7.2 \r\nL 174.6 7.2 \r\nL 174.6 28.944 \r\nL 90.9 28.944 \r\nL 90.9 7.2 \r\n\" style=\"fill:#f7fcf5;\"/>\r\n    <path clip-path=\"url(#pdc0ca972b3)\" d=\"M 174.6 7.2 \r\nL 258.3 7.2 \r\nL 258.3 28.944 \r\nL 174.6 28.944 \r\nL 174.6 7.2 \r\n\" style=\"fill:#f7fcf5;\"/>\r\n    <path clip-path=\"url(#pdc0ca972b3)\" d=\"M 258.3 7.2 \r\nL 342 7.2 \r\nL 342 28.944 \r\nL 258.3 28.944 \r\nL 258.3 7.2 \r\n\" style=\"fill:#f7fcf5;\"/>\r\n    <path clip-path=\"url(#pdc0ca972b3)\" d=\"M 7.2 28.944 \r\nL 90.9 28.944 \r\nL 90.9 50.688 \r\nL 7.2 50.688 \r\nL 7.2 28.944 \r\n\" style=\"fill:#f7fcf5;\"/>\r\n    <path clip-path=\"url(#pdc0ca972b3)\" d=\"M 90.9 28.944 \r\nL 174.6 28.944 \r\nL 174.6 50.688 \r\nL 90.9 50.688 \r\nL 90.9 28.944 \r\n\" style=\"fill:#f7fcf5;\"/>\r\n    <path clip-path=\"url(#pdc0ca972b3)\" d=\"M 174.6 28.944 \r\nL 258.3 28.944 \r\nL 258.3 50.688 \r\nL 174.6 50.688 \r\nL 174.6 28.944 \r\n\" style=\"fill:#f7fcf5;\"/>\r\n    <path clip-path=\"url(#pdc0ca972b3)\" d=\"M 258.3 28.944 \r\nL 342 28.944 \r\nL 342 50.688 \r\nL 258.3 50.688 \r\nL 258.3 28.944 \r\n\" style=\"fill:#f7fcf5;\"/>\r\n    <path clip-path=\"url(#pdc0ca972b3)\" d=\"M 7.2 50.688 \r\nL 90.9 50.688 \r\nL 90.9 72.432 \r\nL 7.2 72.432 \r\nL 7.2 50.688 \r\n\" style=\"fill:#f7fcf5;\"/>\r\n    <path clip-path=\"url(#pdc0ca972b3)\" d=\"M 90.9 50.688 \r\nL 174.6 50.688 \r\nL 174.6 72.432 \r\nL 90.9 72.432 \r\nL 90.9 50.688 \r\n\" style=\"fill:#f7fcf5;\"/>\r\n    <path clip-path=\"url(#pdc0ca972b3)\" d=\"M 174.6 50.688 \r\nL 258.3 50.688 \r\nL 258.3 72.432 \r\nL 174.6 72.432 \r\nL 174.6 50.688 \r\n\" style=\"fill:#f7fcf5;\"/>\r\n    <path clip-path=\"url(#pdc0ca972b3)\" d=\"M 258.3 50.688 \r\nL 342 50.688 \r\nL 342 72.432 \r\nL 258.3 72.432 \r\nL 258.3 50.688 \r\n\" style=\"fill:#f7fcf5;\"/>\r\n    <path clip-path=\"url(#pdc0ca972b3)\" d=\"M 7.2 72.432 \r\nL 90.9 72.432 \r\nL 90.9 94.176 \r\nL 7.2 94.176 \r\nL 7.2 72.432 \r\n\" style=\"fill:#f7fcf5;\"/>\r\n    <path clip-path=\"url(#pdc0ca972b3)\" d=\"M 90.9 72.432 \r\nL 174.6 72.432 \r\nL 174.6 94.176 \r\nL 90.9 94.176 \r\nL 90.9 72.432 \r\n\" style=\"fill:#f7fcf5;\"/>\r\n    <path clip-path=\"url(#pdc0ca972b3)\" d=\"M 174.6 72.432 \r\nL 258.3 72.432 \r\nL 258.3 94.176 \r\nL 174.6 94.176 \r\nL 174.6 72.432 \r\n\" style=\"fill:#f7fcf5;\"/>\r\n    <path clip-path=\"url(#pdc0ca972b3)\" d=\"M 258.3 72.432 \r\nL 342 72.432 \r\nL 342 94.176 \r\nL 258.3 94.176 \r\nL 258.3 72.432 \r\n\" style=\"fill:#f7fcf5;\"/>\r\n    <path clip-path=\"url(#pdc0ca972b3)\" d=\"M 7.2 94.176 \r\nL 90.9 94.176 \r\nL 90.9 115.92 \r\nL 7.2 115.92 \r\nL 7.2 94.176 \r\n\" style=\"fill:#f7fcf5;\"/>\r\n    <path clip-path=\"url(#pdc0ca972b3)\" d=\"M 90.9 94.176 \r\nL 174.6 94.176 \r\nL 174.6 115.92 \r\nL 90.9 115.92 \r\nL 90.9 94.176 \r\n\" style=\"fill:#f7fcf5;\"/>\r\n    <path clip-path=\"url(#pdc0ca972b3)\" d=\"M 174.6 94.176 \r\nL 258.3 94.176 \r\nL 258.3 115.92 \r\nL 174.6 115.92 \r\nL 174.6 94.176 \r\n\" style=\"fill:#00441b;\"/>\r\n    <path clip-path=\"url(#pdc0ca972b3)\" d=\"M 258.3 94.176 \r\nL 342 94.176 \r\nL 342 115.92 \r\nL 258.3 115.92 \r\nL 258.3 94.176 \r\n\" style=\"fill:#f7fcf5;\"/>\r\n    <path clip-path=\"url(#pdc0ca972b3)\" d=\"M 7.2 115.92 \r\nL 90.9 115.92 \r\nL 90.9 137.664 \r\nL 7.2 137.664 \r\nL 7.2 115.92 \r\n\" style=\"fill:#f7fcf5;\"/>\r\n    <path clip-path=\"url(#pdc0ca972b3)\" d=\"M 90.9 115.92 \r\nL 174.6 115.92 \r\nL 174.6 137.664 \r\nL 90.9 137.664 \r\nL 90.9 115.92 \r\n\" style=\"fill:#f7fcf5;\"/>\r\n    <path clip-path=\"url(#pdc0ca972b3)\" d=\"M 174.6 115.92 \r\nL 258.3 115.92 \r\nL 258.3 137.664 \r\nL 174.6 137.664 \r\nL 174.6 115.92 \r\n\" style=\"fill:#f7fcf5;\"/>\r\n    <path clip-path=\"url(#pdc0ca972b3)\" d=\"M 258.3 115.92 \r\nL 342 115.92 \r\nL 342 137.664 \r\nL 258.3 137.664 \r\nL 258.3 115.92 \r\n\" style=\"fill:#f7fcf5;\"/>\r\n    <path clip-path=\"url(#pdc0ca972b3)\" d=\"M 7.2 137.664 \r\nL 90.9 137.664 \r\nL 90.9 159.408 \r\nL 7.2 159.408 \r\nL 7.2 137.664 \r\n\" style=\"fill:#f7fcf5;\"/>\r\n    <path clip-path=\"url(#pdc0ca972b3)\" d=\"M 90.9 137.664 \r\nL 174.6 137.664 \r\nL 174.6 159.408 \r\nL 90.9 159.408 \r\nL 90.9 137.664 \r\n\" style=\"fill:#00441b;\"/>\r\n    <path clip-path=\"url(#pdc0ca972b3)\" d=\"M 174.6 137.664 \r\nL 258.3 137.664 \r\nL 258.3 159.408 \r\nL 174.6 159.408 \r\nL 174.6 137.664 \r\n\" style=\"fill:#f7fcf5;\"/>\r\n    <path clip-path=\"url(#pdc0ca972b3)\" d=\"M 258.3 137.664 \r\nL 342 137.664 \r\nL 342 159.408 \r\nL 258.3 159.408 \r\nL 258.3 137.664 \r\n\" style=\"fill:#f7fcf5;\"/>\r\n    <path clip-path=\"url(#pdc0ca972b3)\" d=\"M 7.2 159.408 \r\nL 90.9 159.408 \r\nL 90.9 181.152 \r\nL 7.2 181.152 \r\nL 7.2 159.408 \r\n\" style=\"fill:#f7fcf5;\"/>\r\n    <path clip-path=\"url(#pdc0ca972b3)\" d=\"M 90.9 159.408 \r\nL 174.6 159.408 \r\nL 174.6 181.152 \r\nL 90.9 181.152 \r\nL 90.9 159.408 \r\n\" style=\"fill:#f7fcf5;\"/>\r\n    <path clip-path=\"url(#pdc0ca972b3)\" d=\"M 174.6 159.408 \r\nL 258.3 159.408 \r\nL 258.3 181.152 \r\nL 174.6 181.152 \r\nL 174.6 159.408 \r\n\" style=\"fill:#f7fcf5;\"/>\r\n    <path clip-path=\"url(#pdc0ca972b3)\" d=\"M 258.3 159.408 \r\nL 342 159.408 \r\nL 342 181.152 \r\nL 258.3 181.152 \r\nL 258.3 159.408 \r\n\" style=\"fill:#f7fcf5;\"/>\r\n    <path clip-path=\"url(#pdc0ca972b3)\" d=\"M 7.2 181.152 \r\nL 90.9 181.152 \r\nL 90.9 202.896 \r\nL 7.2 202.896 \r\nL 7.2 181.152 \r\n\" style=\"fill:#f7fcf5;\"/>\r\n    <path clip-path=\"url(#pdc0ca972b3)\" d=\"M 90.9 181.152 \r\nL 174.6 181.152 \r\nL 174.6 202.896 \r\nL 90.9 202.896 \r\nL 90.9 181.152 \r\n\" style=\"fill:#f7fcf5;\"/>\r\n    <path clip-path=\"url(#pdc0ca972b3)\" d=\"M 174.6 181.152 \r\nL 258.3 181.152 \r\nL 258.3 202.896 \r\nL 174.6 202.896 \r\nL 174.6 181.152 \r\n\" style=\"fill:#f7fcf5;\"/>\r\n    <path clip-path=\"url(#pdc0ca972b3)\" d=\"M 258.3 181.152 \r\nL 342 181.152 \r\nL 342 202.896 \r\nL 258.3 202.896 \r\nL 258.3 181.152 \r\n\" style=\"fill:#f7fcf5;\"/>\r\n    <path clip-path=\"url(#pdc0ca972b3)\" d=\"M 7.2 202.896 \r\nL 90.9 202.896 \r\nL 90.9 224.64 \r\nL 7.2 224.64 \r\nL 7.2 202.896 \r\n\" style=\"fill:#f7fcf5;\"/>\r\n    <path clip-path=\"url(#pdc0ca972b3)\" d=\"M 90.9 202.896 \r\nL 174.6 202.896 \r\nL 174.6 224.64 \r\nL 90.9 224.64 \r\nL 90.9 202.896 \r\n\" style=\"fill:#f7fcf5;\"/>\r\n    <path clip-path=\"url(#pdc0ca972b3)\" d=\"M 174.6 202.896 \r\nL 258.3 202.896 \r\nL 258.3 224.64 \r\nL 174.6 224.64 \r\nL 174.6 202.896 \r\n\" style=\"fill:#f7fcf5;\"/>\r\n    <path clip-path=\"url(#pdc0ca972b3)\" d=\"M 258.3 202.896 \r\nL 342 202.896 \r\nL 342 224.64 \r\nL 258.3 224.64 \r\nL 258.3 202.896 \r\n\" style=\"fill:#f7fcf5;\"/>\r\n   </g>\r\n   <g id=\"matplotlib.axis_1\">\r\n    <g id=\"xtick_1\">\r\n     <g id=\"line2d_1\">\r\n      <defs>\r\n       <path d=\"M 0 0 \r\nL 0 3.5 \r\n\" id=\"m3f85c69e25\" style=\"stroke:#000000;stroke-width:0.8;\"/>\r\n      </defs>\r\n      <g>\r\n       <use style=\"stroke:#000000;stroke-width:0.8;\" x=\"49.05\" xlink:href=\"#m3f85c69e25\" y=\"224.64\"/>\r\n      </g>\r\n     </g>\r\n     <g id=\"text_1\">\r\n      <!-- Country -->\r\n      <g transform=\"translate(29.186719 239.238437)scale(0.1 -0.1)\">\r\n       <defs>\r\n        <path d=\"M 4122 4306 \r\nL 4122 3641 \r\nQ 3803 3938 3442 4084 \r\nQ 3081 4231 2675 4231 \r\nQ 1875 4231 1450 3742 \r\nQ 1025 3253 1025 2328 \r\nQ 1025 1406 1450 917 \r\nQ 1875 428 2675 428 \r\nQ 3081 428 3442 575 \r\nQ 3803 722 4122 1019 \r\nL 4122 359 \r\nQ 3791 134 3420 21 \r\nQ 3050 -91 2638 -91 \r\nQ 1578 -91 968 557 \r\nQ 359 1206 359 2328 \r\nQ 359 3453 968 4101 \r\nQ 1578 4750 2638 4750 \r\nQ 3056 4750 3426 4639 \r\nQ 3797 4528 4122 4306 \r\nz\r\n\" id=\"DejaVuSans-43\" transform=\"scale(0.015625)\"/>\r\n        <path d=\"M 1959 3097 \r\nQ 1497 3097 1228 2736 \r\nQ 959 2375 959 1747 \r\nQ 959 1119 1226 758 \r\nQ 1494 397 1959 397 \r\nQ 2419 397 2687 759 \r\nQ 2956 1122 2956 1747 \r\nQ 2956 2369 2687 2733 \r\nQ 2419 3097 1959 3097 \r\nz\r\nM 1959 3584 \r\nQ 2709 3584 3137 3096 \r\nQ 3566 2609 3566 1747 \r\nQ 3566 888 3137 398 \r\nQ 2709 -91 1959 -91 \r\nQ 1206 -91 779 398 \r\nQ 353 888 353 1747 \r\nQ 353 2609 779 3096 \r\nQ 1206 3584 1959 3584 \r\nz\r\n\" id=\"DejaVuSans-6f\" transform=\"scale(0.015625)\"/>\r\n        <path d=\"M 544 1381 \r\nL 544 3500 \r\nL 1119 3500 \r\nL 1119 1403 \r\nQ 1119 906 1312 657 \r\nQ 1506 409 1894 409 \r\nQ 2359 409 2629 706 \r\nQ 2900 1003 2900 1516 \r\nL 2900 3500 \r\nL 3475 3500 \r\nL 3475 0 \r\nL 2900 0 \r\nL 2900 538 \r\nQ 2691 219 2414 64 \r\nQ 2138 -91 1772 -91 \r\nQ 1169 -91 856 284 \r\nQ 544 659 544 1381 \r\nz\r\nM 1991 3584 \r\nL 1991 3584 \r\nz\r\n\" id=\"DejaVuSans-75\" transform=\"scale(0.015625)\"/>\r\n        <path d=\"M 3513 2113 \r\nL 3513 0 \r\nL 2938 0 \r\nL 2938 2094 \r\nQ 2938 2591 2744 2837 \r\nQ 2550 3084 2163 3084 \r\nQ 1697 3084 1428 2787 \r\nQ 1159 2491 1159 1978 \r\nL 1159 0 \r\nL 581 0 \r\nL 581 3500 \r\nL 1159 3500 \r\nL 1159 2956 \r\nQ 1366 3272 1645 3428 \r\nQ 1925 3584 2291 3584 \r\nQ 2894 3584 3203 3211 \r\nQ 3513 2838 3513 2113 \r\nz\r\n\" id=\"DejaVuSans-6e\" transform=\"scale(0.015625)\"/>\r\n        <path d=\"M 1172 4494 \r\nL 1172 3500 \r\nL 2356 3500 \r\nL 2356 3053 \r\nL 1172 3053 \r\nL 1172 1153 \r\nQ 1172 725 1289 603 \r\nQ 1406 481 1766 481 \r\nL 2356 481 \r\nL 2356 0 \r\nL 1766 0 \r\nQ 1100 0 847 248 \r\nQ 594 497 594 1153 \r\nL 594 3053 \r\nL 172 3053 \r\nL 172 3500 \r\nL 594 3500 \r\nL 594 4494 \r\nL 1172 4494 \r\nz\r\n\" id=\"DejaVuSans-74\" transform=\"scale(0.015625)\"/>\r\n        <path d=\"M 2631 2963 \r\nQ 2534 3019 2420 3045 \r\nQ 2306 3072 2169 3072 \r\nQ 1681 3072 1420 2755 \r\nQ 1159 2438 1159 1844 \r\nL 1159 0 \r\nL 581 0 \r\nL 581 3500 \r\nL 1159 3500 \r\nL 1159 2956 \r\nQ 1341 3275 1631 3429 \r\nQ 1922 3584 2338 3584 \r\nQ 2397 3584 2469 3576 \r\nQ 2541 3569 2628 3553 \r\nL 2631 2963 \r\nz\r\n\" id=\"DejaVuSans-72\" transform=\"scale(0.015625)\"/>\r\n        <path d=\"M 2059 -325 \r\nQ 1816 -950 1584 -1140 \r\nQ 1353 -1331 966 -1331 \r\nL 506 -1331 \r\nL 506 -850 \r\nL 844 -850 \r\nQ 1081 -850 1212 -737 \r\nQ 1344 -625 1503 -206 \r\nL 1606 56 \r\nL 191 3500 \r\nL 800 3500 \r\nL 1894 763 \r\nL 2988 3500 \r\nL 3597 3500 \r\nL 2059 -325 \r\nz\r\n\" id=\"DejaVuSans-79\" transform=\"scale(0.015625)\"/>\r\n       </defs>\r\n       <use xlink:href=\"#DejaVuSans-43\"/>\r\n       <use x=\"69.824219\" xlink:href=\"#DejaVuSans-6f\"/>\r\n       <use x=\"131.005859\" xlink:href=\"#DejaVuSans-75\"/>\r\n       <use x=\"194.384766\" xlink:href=\"#DejaVuSans-6e\"/>\r\n       <use x=\"257.763672\" xlink:href=\"#DejaVuSans-74\"/>\r\n       <use x=\"296.972656\" xlink:href=\"#DejaVuSans-72\"/>\r\n       <use x=\"338.085938\" xlink:href=\"#DejaVuSans-79\"/>\r\n      </g>\r\n     </g>\r\n    </g>\r\n    <g id=\"xtick_2\">\r\n     <g id=\"line2d_2\">\r\n      <g>\r\n       <use style=\"stroke:#000000;stroke-width:0.8;\" x=\"132.75\" xlink:href=\"#m3f85c69e25\" y=\"224.64\"/>\r\n      </g>\r\n     </g>\r\n     <g id=\"text_2\">\r\n      <!-- Age -->\r\n      <g transform=\"translate(123.078906 239.238437)scale(0.1 -0.1)\">\r\n       <defs>\r\n        <path d=\"M 2188 4044 \r\nL 1331 1722 \r\nL 3047 1722 \r\nL 2188 4044 \r\nz\r\nM 1831 4666 \r\nL 2547 4666 \r\nL 4325 0 \r\nL 3669 0 \r\nL 3244 1197 \r\nL 1141 1197 \r\nL 716 0 \r\nL 50 0 \r\nL 1831 4666 \r\nz\r\n\" id=\"DejaVuSans-41\" transform=\"scale(0.015625)\"/>\r\n        <path d=\"M 2906 1791 \r\nQ 2906 2416 2648 2759 \r\nQ 2391 3103 1925 3103 \r\nQ 1463 3103 1205 2759 \r\nQ 947 2416 947 1791 \r\nQ 947 1169 1205 825 \r\nQ 1463 481 1925 481 \r\nQ 2391 481 2648 825 \r\nQ 2906 1169 2906 1791 \r\nz\r\nM 3481 434 \r\nQ 3481 -459 3084 -895 \r\nQ 2688 -1331 1869 -1331 \r\nQ 1566 -1331 1297 -1286 \r\nQ 1028 -1241 775 -1147 \r\nL 775 -588 \r\nQ 1028 -725 1275 -790 \r\nQ 1522 -856 1778 -856 \r\nQ 2344 -856 2625 -561 \r\nQ 2906 -266 2906 331 \r\nL 2906 616 \r\nQ 2728 306 2450 153 \r\nQ 2172 0 1784 0 \r\nQ 1141 0 747 490 \r\nQ 353 981 353 1791 \r\nQ 353 2603 747 3093 \r\nQ 1141 3584 1784 3584 \r\nQ 2172 3584 2450 3431 \r\nQ 2728 3278 2906 2969 \r\nL 2906 3500 \r\nL 3481 3500 \r\nL 3481 434 \r\nz\r\n\" id=\"DejaVuSans-67\" transform=\"scale(0.015625)\"/>\r\n        <path d=\"M 3597 1894 \r\nL 3597 1613 \r\nL 953 1613 \r\nQ 991 1019 1311 708 \r\nQ 1631 397 2203 397 \r\nQ 2534 397 2845 478 \r\nQ 3156 559 3463 722 \r\nL 3463 178 \r\nQ 3153 47 2828 -22 \r\nQ 2503 -91 2169 -91 \r\nQ 1331 -91 842 396 \r\nQ 353 884 353 1716 \r\nQ 353 2575 817 3079 \r\nQ 1281 3584 2069 3584 \r\nQ 2775 3584 3186 3129 \r\nQ 3597 2675 3597 1894 \r\nz\r\nM 3022 2063 \r\nQ 3016 2534 2758 2815 \r\nQ 2500 3097 2075 3097 \r\nQ 1594 3097 1305 2825 \r\nQ 1016 2553 972 2059 \r\nL 3022 2063 \r\nz\r\n\" id=\"DejaVuSans-65\" transform=\"scale(0.015625)\"/>\r\n       </defs>\r\n       <use xlink:href=\"#DejaVuSans-41\"/>\r\n       <use x=\"68.408203\" xlink:href=\"#DejaVuSans-67\"/>\r\n       <use x=\"131.884766\" xlink:href=\"#DejaVuSans-65\"/>\r\n      </g>\r\n     </g>\r\n    </g>\r\n    <g id=\"xtick_3\">\r\n     <g id=\"line2d_3\">\r\n      <g>\r\n       <use style=\"stroke:#000000;stroke-width:0.8;\" x=\"216.45\" xlink:href=\"#m3f85c69e25\" y=\"224.64\"/>\r\n      </g>\r\n     </g>\r\n     <g id=\"text_3\">\r\n      <!-- Salary -->\r\n      <g transform=\"translate(200.74375 239.238437)scale(0.1 -0.1)\">\r\n       <defs>\r\n        <path d=\"M 3425 4513 \r\nL 3425 3897 \r\nQ 3066 4069 2747 4153 \r\nQ 2428 4238 2131 4238 \r\nQ 1616 4238 1336 4038 \r\nQ 1056 3838 1056 3469 \r\nQ 1056 3159 1242 3001 \r\nQ 1428 2844 1947 2747 \r\nL 2328 2669 \r\nQ 3034 2534 3370 2195 \r\nQ 3706 1856 3706 1288 \r\nQ 3706 609 3251 259 \r\nQ 2797 -91 1919 -91 \r\nQ 1588 -91 1214 -16 \r\nQ 841 59 441 206 \r\nL 441 856 \r\nQ 825 641 1194 531 \r\nQ 1563 422 1919 422 \r\nQ 2459 422 2753 634 \r\nQ 3047 847 3047 1241 \r\nQ 3047 1584 2836 1778 \r\nQ 2625 1972 2144 2069 \r\nL 1759 2144 \r\nQ 1053 2284 737 2584 \r\nQ 422 2884 422 3419 \r\nQ 422 4038 858 4394 \r\nQ 1294 4750 2059 4750 \r\nQ 2388 4750 2728 4690 \r\nQ 3069 4631 3425 4513 \r\nz\r\n\" id=\"DejaVuSans-53\" transform=\"scale(0.015625)\"/>\r\n        <path d=\"M 2194 1759 \r\nQ 1497 1759 1228 1600 \r\nQ 959 1441 959 1056 \r\nQ 959 750 1161 570 \r\nQ 1363 391 1709 391 \r\nQ 2188 391 2477 730 \r\nQ 2766 1069 2766 1631 \r\nL 2766 1759 \r\nL 2194 1759 \r\nz\r\nM 3341 1997 \r\nL 3341 0 \r\nL 2766 0 \r\nL 2766 531 \r\nQ 2569 213 2275 61 \r\nQ 1981 -91 1556 -91 \r\nQ 1019 -91 701 211 \r\nQ 384 513 384 1019 \r\nQ 384 1609 779 1909 \r\nQ 1175 2209 1959 2209 \r\nL 2766 2209 \r\nL 2766 2266 \r\nQ 2766 2663 2505 2880 \r\nQ 2244 3097 1772 3097 \r\nQ 1472 3097 1187 3025 \r\nQ 903 2953 641 2809 \r\nL 641 3341 \r\nQ 956 3463 1253 3523 \r\nQ 1550 3584 1831 3584 \r\nQ 2591 3584 2966 3190 \r\nQ 3341 2797 3341 1997 \r\nz\r\n\" id=\"DejaVuSans-61\" transform=\"scale(0.015625)\"/>\r\n        <path d=\"M 603 4863 \r\nL 1178 4863 \r\nL 1178 0 \r\nL 603 0 \r\nL 603 4863 \r\nz\r\n\" id=\"DejaVuSans-6c\" transform=\"scale(0.015625)\"/>\r\n       </defs>\r\n       <use xlink:href=\"#DejaVuSans-53\"/>\r\n       <use x=\"63.476562\" xlink:href=\"#DejaVuSans-61\"/>\r\n       <use x=\"124.755859\" xlink:href=\"#DejaVuSans-6c\"/>\r\n       <use x=\"152.539062\" xlink:href=\"#DejaVuSans-61\"/>\r\n       <use x=\"213.818359\" xlink:href=\"#DejaVuSans-72\"/>\r\n       <use x=\"254.931641\" xlink:href=\"#DejaVuSans-79\"/>\r\n      </g>\r\n     </g>\r\n    </g>\r\n    <g id=\"xtick_4\">\r\n     <g id=\"line2d_4\">\r\n      <g>\r\n       <use style=\"stroke:#000000;stroke-width:0.8;\" x=\"300.15\" xlink:href=\"#m3f85c69e25\" y=\"224.64\"/>\r\n      </g>\r\n     </g>\r\n     <g id=\"text_4\">\r\n      <!-- Purchased -->\r\n      <g transform=\"translate(274.273438 239.238437)scale(0.1 -0.1)\">\r\n       <defs>\r\n        <path d=\"M 1259 4147 \r\nL 1259 2394 \r\nL 2053 2394 \r\nQ 2494 2394 2734 2622 \r\nQ 2975 2850 2975 3272 \r\nQ 2975 3691 2734 3919 \r\nQ 2494 4147 2053 4147 \r\nL 1259 4147 \r\nz\r\nM 628 4666 \r\nL 2053 4666 \r\nQ 2838 4666 3239 4311 \r\nQ 3641 3956 3641 3272 \r\nQ 3641 2581 3239 2228 \r\nQ 2838 1875 2053 1875 \r\nL 1259 1875 \r\nL 1259 0 \r\nL 628 0 \r\nL 628 4666 \r\nz\r\n\" id=\"DejaVuSans-50\" transform=\"scale(0.015625)\"/>\r\n        <path d=\"M 3122 3366 \r\nL 3122 2828 \r\nQ 2878 2963 2633 3030 \r\nQ 2388 3097 2138 3097 \r\nQ 1578 3097 1268 2742 \r\nQ 959 2388 959 1747 \r\nQ 959 1106 1268 751 \r\nQ 1578 397 2138 397 \r\nQ 2388 397 2633 464 \r\nQ 2878 531 3122 666 \r\nL 3122 134 \r\nQ 2881 22 2623 -34 \r\nQ 2366 -91 2075 -91 \r\nQ 1284 -91 818 406 \r\nQ 353 903 353 1747 \r\nQ 353 2603 823 3093 \r\nQ 1294 3584 2113 3584 \r\nQ 2378 3584 2631 3529 \r\nQ 2884 3475 3122 3366 \r\nz\r\n\" id=\"DejaVuSans-63\" transform=\"scale(0.015625)\"/>\r\n        <path d=\"M 3513 2113 \r\nL 3513 0 \r\nL 2938 0 \r\nL 2938 2094 \r\nQ 2938 2591 2744 2837 \r\nQ 2550 3084 2163 3084 \r\nQ 1697 3084 1428 2787 \r\nQ 1159 2491 1159 1978 \r\nL 1159 0 \r\nL 581 0 \r\nL 581 4863 \r\nL 1159 4863 \r\nL 1159 2956 \r\nQ 1366 3272 1645 3428 \r\nQ 1925 3584 2291 3584 \r\nQ 2894 3584 3203 3211 \r\nQ 3513 2838 3513 2113 \r\nz\r\n\" id=\"DejaVuSans-68\" transform=\"scale(0.015625)\"/>\r\n        <path d=\"M 2834 3397 \r\nL 2834 2853 \r\nQ 2591 2978 2328 3040 \r\nQ 2066 3103 1784 3103 \r\nQ 1356 3103 1142 2972 \r\nQ 928 2841 928 2578 \r\nQ 928 2378 1081 2264 \r\nQ 1234 2150 1697 2047 \r\nL 1894 2003 \r\nQ 2506 1872 2764 1633 \r\nQ 3022 1394 3022 966 \r\nQ 3022 478 2636 193 \r\nQ 2250 -91 1575 -91 \r\nQ 1294 -91 989 -36 \r\nQ 684 19 347 128 \r\nL 347 722 \r\nQ 666 556 975 473 \r\nQ 1284 391 1588 391 \r\nQ 1994 391 2212 530 \r\nQ 2431 669 2431 922 \r\nQ 2431 1156 2273 1281 \r\nQ 2116 1406 1581 1522 \r\nL 1381 1569 \r\nQ 847 1681 609 1914 \r\nQ 372 2147 372 2553 \r\nQ 372 3047 722 3315 \r\nQ 1072 3584 1716 3584 \r\nQ 2034 3584 2315 3537 \r\nQ 2597 3491 2834 3397 \r\nz\r\n\" id=\"DejaVuSans-73\" transform=\"scale(0.015625)\"/>\r\n        <path d=\"M 2906 2969 \r\nL 2906 4863 \r\nL 3481 4863 \r\nL 3481 0 \r\nL 2906 0 \r\nL 2906 525 \r\nQ 2725 213 2448 61 \r\nQ 2172 -91 1784 -91 \r\nQ 1150 -91 751 415 \r\nQ 353 922 353 1747 \r\nQ 353 2572 751 3078 \r\nQ 1150 3584 1784 3584 \r\nQ 2172 3584 2448 3432 \r\nQ 2725 3281 2906 2969 \r\nz\r\nM 947 1747 \r\nQ 947 1113 1208 752 \r\nQ 1469 391 1925 391 \r\nQ 2381 391 2643 752 \r\nQ 2906 1113 2906 1747 \r\nQ 2906 2381 2643 2742 \r\nQ 2381 3103 1925 3103 \r\nQ 1469 3103 1208 2742 \r\nQ 947 2381 947 1747 \r\nz\r\n\" id=\"DejaVuSans-64\" transform=\"scale(0.015625)\"/>\r\n       </defs>\r\n       <use xlink:href=\"#DejaVuSans-50\"/>\r\n       <use x=\"58.552734\" xlink:href=\"#DejaVuSans-75\"/>\r\n       <use x=\"121.931641\" xlink:href=\"#DejaVuSans-72\"/>\r\n       <use x=\"160.794922\" xlink:href=\"#DejaVuSans-63\"/>\r\n       <use x=\"215.775391\" xlink:href=\"#DejaVuSans-68\"/>\r\n       <use x=\"279.154297\" xlink:href=\"#DejaVuSans-61\"/>\r\n       <use x=\"340.433594\" xlink:href=\"#DejaVuSans-73\"/>\r\n       <use x=\"392.533203\" xlink:href=\"#DejaVuSans-65\"/>\r\n       <use x=\"454.056641\" xlink:href=\"#DejaVuSans-64\"/>\r\n      </g>\r\n     </g>\r\n    </g>\r\n   </g>\r\n   <g id=\"matplotlib.axis_2\"/>\r\n  </g>\r\n </g>\r\n <defs>\r\n  <clipPath id=\"pdc0ca972b3\">\r\n   <rect height=\"217.44\" width=\"334.8\" x=\"7.2\" y=\"7.2\"/>\r\n  </clipPath>\r\n </defs>\r\n</svg>\r\n",
      "image/png": "[encoded data removed]"
     },
     "metadata": {
      "needs_background": "light"
     }
    }
   ],
   "metadata": {}
  },
  {
   "cell_type": "code",
   "execution_count": 7,
   "source": [
    "data_df"
   ],
   "outputs": [
    {
     "output_type": "execute_result",
     "data": {
      "text/plain": [
       "   Country   Age   Salary Purchased\n",
       "0   France  44.0  72000.0        No\n",
       "1    Spain  27.0  48000.0       Yes\n",
       "2  Germany  30.0  54000.0        No\n",
       "3    Spain  38.0  61000.0        No\n",
       "4  Germany  40.0      NaN       Yes\n",
       "5   France  35.0  58000.0       Yes\n",
       "6    Spain   NaN  52000.0        No\n",
       "7   France  48.0  79000.0       Yes\n",
       "8  Germany  50.0  83000.0        No\n",
       "9   France  37.0  67000.0       Yes"
      ],
      "text/html": [
       "<div>\n",
       "<style scoped>\n",
       "    .dataframe tbody tr th:only-of-type {\n",
       "        vertical-align: middle;\n",
       "    }\n",
       "\n",
       "    .dataframe tbody tr th {\n",
       "        vertical-align: top;\n",
       "    }\n",
       "\n",
       "    .dataframe thead th {\n",
       "        text-align: right;\n",
       "    }\n",
       "</style>\n",
       "<table border=\"1\" class=\"dataframe\">\n",
       "  <thead>\n",
       "    <tr style=\"text-align: right;\">\n",
       "      <th></th>\n",
       "      <th>Country</th>\n",
       "      <th>Age</th>\n",
       "      <th>Salary</th>\n",
       "      <th>Purchased</th>\n",
       "    </tr>\n",
       "  </thead>\n",
       "  <tbody>\n",
       "    <tr>\n",
       "      <th>0</th>\n",
       "      <td>France</td>\n",
       "      <td>44.0</td>\n",
       "      <td>72000.0</td>\n",
       "      <td>No</td>\n",
       "    </tr>\n",
       "    <tr>\n",
       "      <th>1</th>\n",
       "      <td>Spain</td>\n",
       "      <td>27.0</td>\n",
       "      <td>48000.0</td>\n",
       "      <td>Yes</td>\n",
       "    </tr>\n",
       "    <tr>\n",
       "      <th>2</th>\n",
       "      <td>Germany</td>\n",
       "      <td>30.0</td>\n",
       "      <td>54000.0</td>\n",
       "      <td>No</td>\n",
       "    </tr>\n",
       "    <tr>\n",
       "      <th>3</th>\n",
       "      <td>Spain</td>\n",
       "      <td>38.0</td>\n",
       "      <td>61000.0</td>\n",
       "      <td>No</td>\n",
       "    </tr>\n",
       "    <tr>\n",
       "      <th>4</th>\n",
       "      <td>Germany</td>\n",
       "      <td>40.0</td>\n",
       "      <td>NaN</td>\n",
       "      <td>Yes</td>\n",
       "    </tr>\n",
       "    <tr>\n",
       "      <th>5</th>\n",
       "      <td>France</td>\n",
       "      <td>35.0</td>\n",
       "      <td>58000.0</td>\n",
       "      <td>Yes</td>\n",
       "    </tr>\n",
       "    <tr>\n",
       "      <th>6</th>\n",
       "      <td>Spain</td>\n",
       "      <td>NaN</td>\n",
       "      <td>52000.0</td>\n",
       "      <td>No</td>\n",
       "    </tr>\n",
       "    <tr>\n",
       "      <th>7</th>\n",
       "      <td>France</td>\n",
       "      <td>48.0</td>\n",
       "      <td>79000.0</td>\n",
       "      <td>Yes</td>\n",
       "    </tr>\n",
       "    <tr>\n",
       "      <th>8</th>\n",
       "      <td>Germany</td>\n",
       "      <td>50.0</td>\n",
       "      <td>83000.0</td>\n",
       "      <td>No</td>\n",
       "    </tr>\n",
       "    <tr>\n",
       "      <th>9</th>\n",
       "      <td>France</td>\n",
       "      <td>37.0</td>\n",
       "      <td>67000.0</td>\n",
       "      <td>Yes</td>\n",
       "    </tr>\n",
       "  </tbody>\n",
       "</table>\n",
       "</div>"
      ]
     },
     "metadata": {},
     "execution_count": 7
    }
   ],
   "metadata": {}
  },
  {
   "cell_type": "code",
   "execution_count": 8,
   "source": [
    "x= data_df.iloc[:,:-1].values\r\n",
    "x;\r\n",
    "y= data_df.iloc[:,-1].values\r\n",
    "y;"
   ],
   "outputs": [],
   "metadata": {}
  },
  {
   "cell_type": "markdown",
   "source": [
    "Tìm và thay thế các giá trị nan bằng thư viện sklearn.impute"
   ],
   "metadata": {}
  },
  {
   "cell_type": "code",
   "execution_count": null,
   "source": [],
   "outputs": [],
   "metadata": {}
  },
  {
   "cell_type": "code",
   "execution_count": 9,
   "source": [
    "from sklearn.impute import SimpleImputer \r\n",
    "#sklearn là thư mục\r\n",
    "# impute : tên file\r\n",
    "# SimpleImputer : tên hàm\r\n",
    "\r\n",
    "\"Thay giá trị nan thành giá trị mean\";\r\n",
    "impute= SimpleImputer(missing_values= np.nan, strategy= 'mean') #impute: đổ lỗi\r\n",
    "\r\n",
    "# Huấn luyện dữ liệu\r\n",
    "impute.fit(x[:, 1:3])\r\n",
    "# x"
   ],
   "outputs": [
    {
     "output_type": "execute_result",
     "data": {
      "text/plain": [
       "SimpleImputer()"
      ]
     },
     "metadata": {},
     "execution_count": 9
    }
   ],
   "metadata": {}
  },
  {
   "cell_type": "code",
   "execution_count": 10,
   "source": [
    "x"
   ],
   "outputs": [
    {
     "output_type": "execute_result",
     "data": {
      "text/plain": [
       "array([['France', 44.0, 72000.0],\n",
       "       ['Spain', 27.0, 48000.0],\n",
       "       ['Germany', 30.0, 54000.0],\n",
       "       ['Spain', 38.0, 61000.0],\n",
       "       ['Germany', 40.0, nan],\n",
       "       ['France', 35.0, 58000.0],\n",
       "       ['Spain', nan, 52000.0],\n",
       "       ['France', 48.0, 79000.0],\n",
       "       ['Germany', 50.0, 83000.0],\n",
       "       ['France', 37.0, 67000.0]], dtype=object)"
      ]
     },
     "metadata": {},
     "execution_count": 10
    }
   ],
   "metadata": {}
  },
  {
   "cell_type": "code",
   "execution_count": 11,
   "source": [
    "X_new= x\r\n",
    "impute.fit(X_new[:, 1:3])\r\n"
   ],
   "outputs": [
    {
     "output_type": "execute_result",
     "data": {
      "text/plain": [
       "SimpleImputer()"
      ]
     },
     "metadata": {},
     "execution_count": 11
    }
   ],
   "metadata": {}
  },
  {
   "cell_type": "code",
   "execution_count": 12,
   "source": [
    "X_new[:, 1:3]= impute.transform(X_new[:, 1:3])"
   ],
   "outputs": [],
   "metadata": {}
  },
  {
   "cell_type": "markdown",
   "source": [
    "Encode Categorical data: Mã hiệu hóa danh mục\r\n",
    "Categorical: Phân loại\r\n",
    "Encode Independent varible: Mã hóa biến độc lập"
   ],
   "metadata": {}
  },
  {
   "cell_type": "code",
   "execution_count": 13,
   "source": [
    "from sklearn.compose import ColumnTransformer\r\n",
    "from sklearn.preprocessing import OneHotEncoder"
   ],
   "outputs": [],
   "metadata": {}
  },
  {
   "cell_type": "code",
   "execution_count": 14,
   "source": [
    "X_new"
   ],
   "outputs": [
    {
     "output_type": "execute_result",
     "data": {
      "text/plain": [
       "array([['France', 44.0, 72000.0],\n",
       "       ['Spain', 27.0, 48000.0],\n",
       "       ['Germany', 30.0, 54000.0],\n",
       "       ['Spain', 38.0, 61000.0],\n",
       "       ['Germany', 40.0, 63777.77777777778],\n",
       "       ['France', 35.0, 58000.0],\n",
       "       ['Spain', 38.77777777777778, 52000.0],\n",
       "       ['France', 48.0, 79000.0],\n",
       "       ['Germany', 50.0, 83000.0],\n",
       "       ['France', 37.0, 67000.0]], dtype=object)"
      ]
     },
     "metadata": {},
     "execution_count": 14
    }
   ],
   "metadata": {}
  },
  {
   "cell_type": "markdown",
   "source": [
    "Biến đổi cột đầu tiên string thành số"
   ],
   "metadata": {}
  },
  {
   "cell_type": "code",
   "execution_count": 15,
   "source": [
    "ct= ColumnTransformer(transformers=[('encoder', OneHotEncoder(), [0])], remainder='passthrough')\r\n",
    "\r\n",
    "# ColumnTransformer: cột cần chuyển đổi\r\n",
    "# transformers: trả về 1 list\r\n",
    "# ('encoder'): Cung cấp 1 list tham số  'encoder'\r\n",
    "# OneHotEncoder: cột cần biến đổi\r\n",
    "# [0]: vị trí cột số 0 là cột chuỗi string\r\n",
    "# remainder: Phần còn lại, ở đây bỏ qua bằng key 'passthrought': tức là cột 1, 2 Bỏ qua\r\n"
   ],
   "outputs": [],
   "metadata": {}
  },
  {
   "cell_type": "code",
   "execution_count": 16,
   "source": [
    "X_new= ct.fit_transform(X_new)\r\n",
    "X_new"
   ],
   "outputs": [
    {
     "output_type": "execute_result",
     "data": {
      "text/plain": [
       "array([[1.0, 0.0, 0.0, 44.0, 72000.0],\n",
       "       [0.0, 0.0, 1.0, 27.0, 48000.0],\n",
       "       [0.0, 1.0, 0.0, 30.0, 54000.0],\n",
       "       [0.0, 0.0, 1.0, 38.0, 61000.0],\n",
       "       [0.0, 1.0, 0.0, 40.0, 63777.77777777778],\n",
       "       [1.0, 0.0, 0.0, 35.0, 58000.0],\n",
       "       [0.0, 0.0, 1.0, 38.77777777777778, 52000.0],\n",
       "       [1.0, 0.0, 0.0, 48.0, 79000.0],\n",
       "       [0.0, 1.0, 0.0, 50.0, 83000.0],\n",
       "       [1.0, 0.0, 0.0, 37.0, 67000.0]], dtype=object)"
      ]
     },
     "metadata": {},
     "execution_count": 16
    }
   ],
   "metadata": {}
  },
  {
   "cell_type": "code",
   "execution_count": 17,
   "source": [
    "\"\"\"Giải thích:\r\n",
    "'Cột col[0]='France'\r\n",
    "Col[1] 'Germany',\r\n",
    "Col[2]= 'Spain'\r\n",
    "tương ứng [0,1,2] là label vị trí trong list\r\n",
    "xem lại https://www.youtube.com/watch?v=VsXKtjddXWY [phút 25:00]\r\n",
    "\"\"\""
   ],
   "outputs": [
    {
     "output_type": "execute_result",
     "data": {
      "text/plain": [
       "\"Giải thích:\\n'Cột col[0]='France'\\nCol[1] 'Germany',\\nCol[2]= 'Spain'\\ntương ứng [0,1,2] là label vị trí trong list\\nxem lại https://www.youtube.com/watch?v=VsXKtjddXWY [phút 25:00]\\n\""
      ]
     },
     "metadata": {},
     "execution_count": 17
    }
   ],
   "metadata": {}
  },
  {
   "cell_type": "code",
   "execution_count": 18,
   "source": [
    "y"
   ],
   "outputs": [
    {
     "output_type": "execute_result",
     "data": {
      "text/plain": [
       "array(['No', 'Yes', 'No', 'No', 'Yes', 'Yes', 'No', 'Yes', 'No', 'Yes'],\n",
       "      dtype=object)"
      ]
     },
     "metadata": {},
     "execution_count": 18
    }
   ],
   "metadata": {}
  },
  {
   "cell_type": "code",
   "execution_count": 19,
   "source": [
    "# Encoder y\r\n",
    "from sklearn.preprocessing import LabelEncoder"
   ],
   "outputs": [],
   "metadata": {}
  },
  {
   "cell_type": "code",
   "execution_count": 20,
   "source": [
    "le= LabelEncoder()\r\n",
    "y= le.fit_transform(y)\r\n",
    "y"
   ],
   "outputs": [
    {
     "output_type": "execute_result",
     "data": {
      "text/plain": [
       "array([0, 1, 0, 0, 1, 1, 0, 1, 0, 1])"
      ]
     },
     "metadata": {},
     "execution_count": 20
    }
   ],
   "metadata": {}
  },
  {
   "cell_type": "markdown",
   "source": [
    "Model machice"
   ],
   "metadata": {}
  },
  {
   "cell_type": "code",
   "execution_count": 21,
   "source": [
    "from sklearn.model_selection import train_test_split\r\n"
   ],
   "outputs": [],
   "metadata": {}
  },
  {
   "cell_type": "code",
   "execution_count": 22,
   "source": [
    "np.random.seed(42)\r\n",
    "X_train, X_test, Y_train, Y_test= train_test_split(X_new, y, test_size=0.2)"
   ],
   "outputs": [],
   "metadata": {}
  },
  {
   "cell_type": "code",
   "execution_count": 23,
   "source": [
    "X_train"
   ],
   "outputs": [
    {
     "output_type": "execute_result",
     "data": {
      "text/plain": [
       "array([[1.0, 0.0, 0.0, 35.0, 58000.0],\n",
       "       [1.0, 0.0, 0.0, 44.0, 72000.0],\n",
       "       [1.0, 0.0, 0.0, 48.0, 79000.0],\n",
       "       [0.0, 1.0, 0.0, 30.0, 54000.0],\n",
       "       [1.0, 0.0, 0.0, 37.0, 67000.0],\n",
       "       [0.0, 1.0, 0.0, 40.0, 63777.77777777778],\n",
       "       [0.0, 0.0, 1.0, 38.0, 61000.0],\n",
       "       [0.0, 0.0, 1.0, 38.77777777777778, 52000.0]], dtype=object)"
      ]
     },
     "metadata": {},
     "execution_count": 23
    }
   ],
   "metadata": {}
  },
  {
   "cell_type": "code",
   "execution_count": 24,
   "source": [
    "Y_train"
   ],
   "outputs": [
    {
     "output_type": "execute_result",
     "data": {
      "text/plain": [
       "array([1, 0, 1, 0, 1, 1, 0, 0])"
      ]
     },
     "metadata": {},
     "execution_count": 24
    }
   ],
   "metadata": {}
  },
  {
   "cell_type": "markdown",
   "source": [
    "Do dữ liệu không tương đồng giữa tuổi tác và mức lương. Xảy ra dự đoán sai so thực tế\r\n",
    "Ta cần tiêu chuẩn hóa dữ liệu: Feater Scaling (dịch sát nghĩa tính năng mở rộng quy mô)"
   ],
   "metadata": {}
  },
  {
   "cell_type": "code",
   "execution_count": 25,
   "source": [
    "from sklearn.preprocessing import StandardScaler"
   ],
   "outputs": [],
   "metadata": {}
  },
  {
   "cell_type": "code",
   "execution_count": 26,
   "source": [
    "# Thực hiện co dãn dữ liệu mô hình tiêu chuẩn \r\n",
    "\"\"\"Công thức:\r\n",
    "X_stand={x-X_mean(x)/standard diviation(x)}\r\n",
    "standard diviation: số lệch tiêu chuẩn\r\n",
    "\"\"\"\r\n",
    "sc = StandardScaler()\r\n",
    "X_train[:, 3:]= sc.fit_transform(X_train[:, 3:])\r\n",
    "X_train"
   ],
   "outputs": [
    {
     "output_type": "execute_result",
     "data": {
      "text/plain": [
       "array([[1.0, 0.0, 0.0, -0.7529426005471072, -0.6260377781240918],\n",
       "       [1.0, 0.0, 0.0, 1.008453807952985, 1.0130429500553495],\n",
       "       [1.0, 0.0, 0.0, 1.7912966561752484, 1.8325833141450703],\n",
       "       [0.0, 1.0, 0.0, -1.7314961608249362, -1.0943465576039322],\n",
       "       [1.0, 0.0, 0.0, -0.3615211764359756, 0.42765697570554906],\n",
       "       [0.0, 1.0, 0.0, 0.22561095973072184, 0.05040823668012247],\n",
       "       [0.0, 0.0, 1.0, -0.16581046438040975, -0.27480619351421154],\n",
       "       [0.0, 0.0, 1.0, -0.013591021670525094, -1.3285009473438525]],\n",
       "      dtype=object)"
      ]
     },
     "metadata": {},
     "execution_count": 26
    }
   ],
   "metadata": {}
  },
  {
   "cell_type": "code",
   "execution_count": 27,
   "source": [
    "# X_train đã fit nên X_test chỉ cần tranform vào thôi\r\n",
    "X_test[:, 3:]=sc.transform(X_test[:, 3:])\r\n",
    "X_test"
   ],
   "outputs": [
    {
     "output_type": "execute_result",
     "data": {
      "text/plain": [
       "array([[0.0, 1.0, 0.0, 2.1827180802863797, 2.3008920936249107],\n",
       "       [0.0, 0.0, 1.0, -2.3186282969916334, -1.7968097268236927]],\n",
       "      dtype=object)"
      ]
     },
     "metadata": {},
     "execution_count": 27
    }
   ],
   "metadata": {}
  },
  {
   "cell_type": "code",
   "execution_count": 28,
   "source": [
    "n=0\r\n",
    "while n<10:\r\n",
    "    print(\"******** Chú ý: Cần học lại, chưa hiểu bài này nhé !!!!!!!!!!!!!\")\r\n",
    "    n+= 1"
   ],
   "outputs": [
    {
     "output_type": "stream",
     "name": "stdout",
     "text": [
      "******** Chú ý: Cần học lại, chưa hiểu bài này nhé !!!!!!!!!!!!!\n",
      "******** Chú ý: Cần học lại, chưa hiểu bài này nhé !!!!!!!!!!!!!\n",
      "******** Chú ý: Cần học lại, chưa hiểu bài này nhé !!!!!!!!!!!!!\n",
      "******** Chú ý: Cần học lại, chưa hiểu bài này nhé !!!!!!!!!!!!!\n",
      "******** Chú ý: Cần học lại, chưa hiểu bài này nhé !!!!!!!!!!!!!\n",
      "******** Chú ý: Cần học lại, chưa hiểu bài này nhé !!!!!!!!!!!!!\n",
      "******** Chú ý: Cần học lại, chưa hiểu bài này nhé !!!!!!!!!!!!!\n",
      "******** Chú ý: Cần học lại, chưa hiểu bài này nhé !!!!!!!!!!!!!\n",
      "******** Chú ý: Cần học lại, chưa hiểu bài này nhé !!!!!!!!!!!!!\n",
      "******** Chú ý: Cần học lại, chưa hiểu bài này nhé !!!!!!!!!!!!!\n"
     ]
    }
   ],
   "metadata": {}
  }
 ],
 "metadata": {
  "orig_nbformat": 4,
  "language_info": {
   "name": "python",
   "version": "3.9.2",
   "mimetype": "text/x-python",
   "codemirror_mode": {
    "name": "ipython",
    "version": 3
   },
   "pygments_lexer": "ipython3",
   "nbconvert_exporter": "python",
   "file_extension": ".py"
  },
  "kernelspec": {
   "name": "python3",
   "display_name": "Python 3.9.2 64-bit"
  },
  "interpreter": {
   "hash": "cf6663ca35ebd57d6121109460e534e72c1e1f8ff142ad985cdcb4b7e585eb79"
  }
 },
 "nbformat": 4,
 "nbformat_minor": 2
}